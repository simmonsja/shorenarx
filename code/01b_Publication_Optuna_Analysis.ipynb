{
 "cells": [
  {
   "cell_type": "markdown",
   "id": "60df7177-7c66-42e2-bec1-ae8fbf8c1445",
   "metadata": {},
   "source": [
    "# Data-driven shoreline modelling at timescales of days to years\n",
    "Joshua Simmons and Kristen Splinter "
   ]
  },
  {
   "cell_type": "code",
   "execution_count": 1,
   "id": "d76af58a-14f7-46b1-86e5-b8db5b9760a6",
   "metadata": {},
   "outputs": [],
   "source": [
    "# magic\n",
    "%load_ext autoreload\n",
    "%autoreload 2\n",
    "%matplotlib inline"
   ]
  },
  {
   "cell_type": "code",
   "execution_count": 2,
   "id": "eaae8881-18c3-455a-b87e-658a9da54c5d",
   "metadata": {},
   "outputs": [],
   "source": [
    "import os,sys\n",
    "import optuna\n",
    "import multiprocess\n",
    "import glob\n",
    "import pandas as pd\n",
    "import seaborn as sns"
   ]
  },
  {
   "cell_type": "markdown",
   "id": "6c1bfb0c-5cda-4b6d-843a-fc1ff0abec13",
   "metadata": {},
   "source": [
    "# Optimise the model\n",
    "## Run optuna\n",
    "Run optuna to grid search some hyperparameters and compare model performance with 5 fold CV at both Tairua and Narrabeen.\n",
    "This is done using the `01a_Optuna_Run_Script.py` script."
   ]
  },
  {
   "cell_type": "code",
   "execution_count": 4,
   "id": "45f3e5ad-d39b-45ab-9ae4-5315e48893f4",
   "metadata": {},
   "outputs": [],
   "source": [
    "trainingSettings = {\n",
    "    'baseDir': '..',\n",
    "    'site': 'tairua',\n",
    "    'version': 3,\n",
    "    'outputDir': os.path.join('..','results','optuna')\n",
    "}"
   ]
  },
  {
   "cell_type": "markdown",
   "id": "f424225b",
   "metadata": {},
   "source": [
    "## b) Interrogate results to find optimum"
   ]
  },
  {
   "cell_type": "code",
   "execution_count": 10,
   "id": "9d15e403",
   "metadata": {},
   "outputs": [
    {
     "name": "stdout",
     "output_type": "stream",
     "text": [
      "Searching for studies in ../results/optuna/study_*_tairua_v03.db\n",
      "Found 4 studies\n",
      "Loading study ../results/optuna/study_tairua_v03.db\n"
     ]
    }
   ],
   "source": [
    "combineResults = False # Only combine once\n",
    "sqliteStr = 'sqlite:///{}'\n",
    "baseDirStr = os.path.join(trainingSettings['outputDir'],'study{}_{}_v{:02d}.db')\n",
    "print('Searching for studies in',baseDirStr.format('_*',trainingSettings['site'],trainingSettings['version']))\n",
    "studies = glob.glob(baseDirStr.format('_*',trainingSettings['site'],trainingSettings['version']))\n",
    "print('Found',len(studies),'studies')\n",
    "outFile = baseDirStr.format('',trainingSettings['site'],trainingSettings['version'])\n",
    "studies.sort()\n",
    "baseStudyName = baseDirStr.format('',trainingSettings['site'],trainingSettings['version']).split(os.sep)[-1].replace('.db','')\n",
    "\n",
    "if not os.path.exists(outFile):\n",
    "    print('Creating new study',outFile)\n",
    "    study = optuna.create_study(\n",
    "        study_name=baseStudyName,\n",
    "        storage=sqliteStr.format(outFile),\n",
    "        direction='minimize',\n",
    "        load_if_exists=False\n",
    "    )\n",
    "if combineResults:\n",
    "    print('Combining results')\n",
    "    for thisStudy in studies:\n",
    "        thisStudyName = thisStudy.replace('.db','') #.split(os.sep)[-1]\n",
    "        print(thisStudy)\n",
    "        optuna.study.copy_study(\n",
    "            from_study_name=thisStudyName,\n",
    "            from_storage=sqliteStr.format(thisStudy),\n",
    "            to_storage=sqliteStr.format(outFile)\n",
    "        )\n",
    "\n",
    "print('Loading study',outFile)\n",
    "study_summary = optuna.study.get_all_study_summaries(storage=sqliteStr.format(outFile))\n",
    "study = optuna.load_study(\n",
    "    study_name=baseStudyName,\n",
    "    storage=sqliteStr.format(outFile)\n",
    ")"
   ]
  },
  {
   "cell_type": "code",
   "execution_count": 11,
   "id": "a0661ee3",
   "metadata": {},
   "outputs": [
    {
     "name": "stdout",
     "output_type": "stream",
     "text": [
      "FrozenTrial(number=74, state=TrialState.COMPLETE, values=[6.178459942619227], datetime_start=datetime.datetime(2024, 3, 27, 4, 12, 39, 3660), datetime_complete=datetime.datetime(2024, 3, 27, 4, 22, 22, 263311), params={'peak_variable': False, 'num_layers': 3, 'size_factor': 500, 'dropout_rate': 0.3649088186873377, 'learning_rate': 0.0009904117715878512, 'learning_decay': 0.027187180982466676, 'batch_size': 20, 'epoch_num': 1000}, user_attrs={}, system_attrs={}, intermediate_values={}, distributions={'peak_variable': CategoricalDistribution(choices=(True, False)), 'num_layers': IntDistribution(high=3, log=False, low=2, step=1), 'size_factor': IntDistribution(high=800, log=False, low=200, step=50), 'dropout_rate': FloatDistribution(high=0.4, log=False, low=0.1, step=None), 'learning_rate': FloatDistribution(high=0.001, log=True, low=5e-05, step=None), 'learning_decay': FloatDistribution(high=0.1, log=False, low=0.025, step=None), 'batch_size': IntDistribution(high=20, log=False, low=8, step=4), 'epoch_num': IntDistribution(high=1500, log=False, low=500, step=500)}, trial_id=74, value=None)\n"
     ]
    }
   ],
   "source": [
    "for _ in study_summary:\n",
    "    print(_.best_trial)"
   ]
  },
  {
   "cell_type": "code",
   "execution_count": 12,
   "id": "5d2705c1-dff4-471e-b93d-9ac615c38cb2",
   "metadata": {},
   "outputs": [
    {
     "data": {
      "application/vnd.plotly.v1+json": {
       "config": {
        "plotlyServerURL": "https://plot.ly"
       },
       "data": [
        {
         "cliponaxis": false,
         "hovertemplate": [
          "num_layers (IntDistribution): 0.0022775540652113335<extra></extra>",
          "peak_variable (CategoricalDistribution): 0.004373671984847108<extra></extra>",
          "batch_size (IntDistribution): 0.018987572874437378<extra></extra>",
          "size_factor (IntDistribution): 0.02189306836497831<extra></extra>",
          "learning_decay (FloatDistribution): 0.03099844955763497<extra></extra>",
          "dropout_rate (FloatDistribution): 0.052722635738949856<extra></extra>",
          "epoch_num (IntDistribution): 0.3868556525820076<extra></extra>",
          "learning_rate (FloatDistribution): 0.48189139483193344<extra></extra>"
         ],
         "name": "Objective Value",
         "orientation": "h",
         "text": [
          "<0.01",
          "<0.01",
          "0.02",
          "0.02",
          "0.03",
          "0.05",
          "0.39",
          "0.48"
         ],
         "textposition": "outside",
         "type": "bar",
         "x": [
          0.0022775540652113335,
          0.004373671984847108,
          0.018987572874437378,
          0.02189306836497831,
          0.03099844955763497,
          0.052722635738949856,
          0.3868556525820076,
          0.48189139483193344
         ],
         "y": [
          "num_layers",
          "peak_variable",
          "batch_size",
          "size_factor",
          "learning_decay",
          "dropout_rate",
          "epoch_num",
          "learning_rate"
         ]
        }
       ],
       "layout": {
        "template": {
         "data": {
          "bar": [
           {
            "error_x": {
             "color": "#2a3f5f"
            },
            "error_y": {
             "color": "#2a3f5f"
            },
            "marker": {
             "line": {
              "color": "#E5ECF6",
              "width": 0.5
             },
             "pattern": {
              "fillmode": "overlay",
              "size": 10,
              "solidity": 0.2
             }
            },
            "type": "bar"
           }
          ],
          "barpolar": [
           {
            "marker": {
             "line": {
              "color": "#E5ECF6",
              "width": 0.5
             },
             "pattern": {
              "fillmode": "overlay",
              "size": 10,
              "solidity": 0.2
             }
            },
            "type": "barpolar"
           }
          ],
          "carpet": [
           {
            "aaxis": {
             "endlinecolor": "#2a3f5f",
             "gridcolor": "white",
             "linecolor": "white",
             "minorgridcolor": "white",
             "startlinecolor": "#2a3f5f"
            },
            "baxis": {
             "endlinecolor": "#2a3f5f",
             "gridcolor": "white",
             "linecolor": "white",
             "minorgridcolor": "white",
             "startlinecolor": "#2a3f5f"
            },
            "type": "carpet"
           }
          ],
          "choropleth": [
           {
            "colorbar": {
             "outlinewidth": 0,
             "ticks": ""
            },
            "type": "choropleth"
           }
          ],
          "contour": [
           {
            "colorbar": {
             "outlinewidth": 0,
             "ticks": ""
            },
            "colorscale": [
             [
              0,
              "#0d0887"
             ],
             [
              0.1111111111111111,
              "#46039f"
             ],
             [
              0.2222222222222222,
              "#7201a8"
             ],
             [
              0.3333333333333333,
              "#9c179e"
             ],
             [
              0.4444444444444444,
              "#bd3786"
             ],
             [
              0.5555555555555556,
              "#d8576b"
             ],
             [
              0.6666666666666666,
              "#ed7953"
             ],
             [
              0.7777777777777778,
              "#fb9f3a"
             ],
             [
              0.8888888888888888,
              "#fdca26"
             ],
             [
              1,
              "#f0f921"
             ]
            ],
            "type": "contour"
           }
          ],
          "contourcarpet": [
           {
            "colorbar": {
             "outlinewidth": 0,
             "ticks": ""
            },
            "type": "contourcarpet"
           }
          ],
          "heatmap": [
           {
            "colorbar": {
             "outlinewidth": 0,
             "ticks": ""
            },
            "colorscale": [
             [
              0,
              "#0d0887"
             ],
             [
              0.1111111111111111,
              "#46039f"
             ],
             [
              0.2222222222222222,
              "#7201a8"
             ],
             [
              0.3333333333333333,
              "#9c179e"
             ],
             [
              0.4444444444444444,
              "#bd3786"
             ],
             [
              0.5555555555555556,
              "#d8576b"
             ],
             [
              0.6666666666666666,
              "#ed7953"
             ],
             [
              0.7777777777777778,
              "#fb9f3a"
             ],
             [
              0.8888888888888888,
              "#fdca26"
             ],
             [
              1,
              "#f0f921"
             ]
            ],
            "type": "heatmap"
           }
          ],
          "heatmapgl": [
           {
            "colorbar": {
             "outlinewidth": 0,
             "ticks": ""
            },
            "colorscale": [
             [
              0,
              "#0d0887"
             ],
             [
              0.1111111111111111,
              "#46039f"
             ],
             [
              0.2222222222222222,
              "#7201a8"
             ],
             [
              0.3333333333333333,
              "#9c179e"
             ],
             [
              0.4444444444444444,
              "#bd3786"
             ],
             [
              0.5555555555555556,
              "#d8576b"
             ],
             [
              0.6666666666666666,
              "#ed7953"
             ],
             [
              0.7777777777777778,
              "#fb9f3a"
             ],
             [
              0.8888888888888888,
              "#fdca26"
             ],
             [
              1,
              "#f0f921"
             ]
            ],
            "type": "heatmapgl"
           }
          ],
          "histogram": [
           {
            "marker": {
             "pattern": {
              "fillmode": "overlay",
              "size": 10,
              "solidity": 0.2
             }
            },
            "type": "histogram"
           }
          ],
          "histogram2d": [
           {
            "colorbar": {
             "outlinewidth": 0,
             "ticks": ""
            },
            "colorscale": [
             [
              0,
              "#0d0887"
             ],
             [
              0.1111111111111111,
              "#46039f"
             ],
             [
              0.2222222222222222,
              "#7201a8"
             ],
             [
              0.3333333333333333,
              "#9c179e"
             ],
             [
              0.4444444444444444,
              "#bd3786"
             ],
             [
              0.5555555555555556,
              "#d8576b"
             ],
             [
              0.6666666666666666,
              "#ed7953"
             ],
             [
              0.7777777777777778,
              "#fb9f3a"
             ],
             [
              0.8888888888888888,
              "#fdca26"
             ],
             [
              1,
              "#f0f921"
             ]
            ],
            "type": "histogram2d"
           }
          ],
          "histogram2dcontour": [
           {
            "colorbar": {
             "outlinewidth": 0,
             "ticks": ""
            },
            "colorscale": [
             [
              0,
              "#0d0887"
             ],
             [
              0.1111111111111111,
              "#46039f"
             ],
             [
              0.2222222222222222,
              "#7201a8"
             ],
             [
              0.3333333333333333,
              "#9c179e"
             ],
             [
              0.4444444444444444,
              "#bd3786"
             ],
             [
              0.5555555555555556,
              "#d8576b"
             ],
             [
              0.6666666666666666,
              "#ed7953"
             ],
             [
              0.7777777777777778,
              "#fb9f3a"
             ],
             [
              0.8888888888888888,
              "#fdca26"
             ],
             [
              1,
              "#f0f921"
             ]
            ],
            "type": "histogram2dcontour"
           }
          ],
          "mesh3d": [
           {
            "colorbar": {
             "outlinewidth": 0,
             "ticks": ""
            },
            "type": "mesh3d"
           }
          ],
          "parcoords": [
           {
            "line": {
             "colorbar": {
              "outlinewidth": 0,
              "ticks": ""
             }
            },
            "type": "parcoords"
           }
          ],
          "pie": [
           {
            "automargin": true,
            "type": "pie"
           }
          ],
          "scatter": [
           {
            "fillpattern": {
             "fillmode": "overlay",
             "size": 10,
             "solidity": 0.2
            },
            "type": "scatter"
           }
          ],
          "scatter3d": [
           {
            "line": {
             "colorbar": {
              "outlinewidth": 0,
              "ticks": ""
             }
            },
            "marker": {
             "colorbar": {
              "outlinewidth": 0,
              "ticks": ""
             }
            },
            "type": "scatter3d"
           }
          ],
          "scattercarpet": [
           {
            "marker": {
             "colorbar": {
              "outlinewidth": 0,
              "ticks": ""
             }
            },
            "type": "scattercarpet"
           }
          ],
          "scattergeo": [
           {
            "marker": {
             "colorbar": {
              "outlinewidth": 0,
              "ticks": ""
             }
            },
            "type": "scattergeo"
           }
          ],
          "scattergl": [
           {
            "marker": {
             "colorbar": {
              "outlinewidth": 0,
              "ticks": ""
             }
            },
            "type": "scattergl"
           }
          ],
          "scattermapbox": [
           {
            "marker": {
             "colorbar": {
              "outlinewidth": 0,
              "ticks": ""
             }
            },
            "type": "scattermapbox"
           }
          ],
          "scatterpolar": [
           {
            "marker": {
             "colorbar": {
              "outlinewidth": 0,
              "ticks": ""
             }
            },
            "type": "scatterpolar"
           }
          ],
          "scatterpolargl": [
           {
            "marker": {
             "colorbar": {
              "outlinewidth": 0,
              "ticks": ""
             }
            },
            "type": "scatterpolargl"
           }
          ],
          "scatterternary": [
           {
            "marker": {
             "colorbar": {
              "outlinewidth": 0,
              "ticks": ""
             }
            },
            "type": "scatterternary"
           }
          ],
          "surface": [
           {
            "colorbar": {
             "outlinewidth": 0,
             "ticks": ""
            },
            "colorscale": [
             [
              0,
              "#0d0887"
             ],
             [
              0.1111111111111111,
              "#46039f"
             ],
             [
              0.2222222222222222,
              "#7201a8"
             ],
             [
              0.3333333333333333,
              "#9c179e"
             ],
             [
              0.4444444444444444,
              "#bd3786"
             ],
             [
              0.5555555555555556,
              "#d8576b"
             ],
             [
              0.6666666666666666,
              "#ed7953"
             ],
             [
              0.7777777777777778,
              "#fb9f3a"
             ],
             [
              0.8888888888888888,
              "#fdca26"
             ],
             [
              1,
              "#f0f921"
             ]
            ],
            "type": "surface"
           }
          ],
          "table": [
           {
            "cells": {
             "fill": {
              "color": "#EBF0F8"
             },
             "line": {
              "color": "white"
             }
            },
            "header": {
             "fill": {
              "color": "#C8D4E3"
             },
             "line": {
              "color": "white"
             }
            },
            "type": "table"
           }
          ]
         },
         "layout": {
          "annotationdefaults": {
           "arrowcolor": "#2a3f5f",
           "arrowhead": 0,
           "arrowwidth": 1
          },
          "autotypenumbers": "strict",
          "coloraxis": {
           "colorbar": {
            "outlinewidth": 0,
            "ticks": ""
           }
          },
          "colorscale": {
           "diverging": [
            [
             0,
             "#8e0152"
            ],
            [
             0.1,
             "#c51b7d"
            ],
            [
             0.2,
             "#de77ae"
            ],
            [
             0.3,
             "#f1b6da"
            ],
            [
             0.4,
             "#fde0ef"
            ],
            [
             0.5,
             "#f7f7f7"
            ],
            [
             0.6,
             "#e6f5d0"
            ],
            [
             0.7,
             "#b8e186"
            ],
            [
             0.8,
             "#7fbc41"
            ],
            [
             0.9,
             "#4d9221"
            ],
            [
             1,
             "#276419"
            ]
           ],
           "sequential": [
            [
             0,
             "#0d0887"
            ],
            [
             0.1111111111111111,
             "#46039f"
            ],
            [
             0.2222222222222222,
             "#7201a8"
            ],
            [
             0.3333333333333333,
             "#9c179e"
            ],
            [
             0.4444444444444444,
             "#bd3786"
            ],
            [
             0.5555555555555556,
             "#d8576b"
            ],
            [
             0.6666666666666666,
             "#ed7953"
            ],
            [
             0.7777777777777778,
             "#fb9f3a"
            ],
            [
             0.8888888888888888,
             "#fdca26"
            ],
            [
             1,
             "#f0f921"
            ]
           ],
           "sequentialminus": [
            [
             0,
             "#0d0887"
            ],
            [
             0.1111111111111111,
             "#46039f"
            ],
            [
             0.2222222222222222,
             "#7201a8"
            ],
            [
             0.3333333333333333,
             "#9c179e"
            ],
            [
             0.4444444444444444,
             "#bd3786"
            ],
            [
             0.5555555555555556,
             "#d8576b"
            ],
            [
             0.6666666666666666,
             "#ed7953"
            ],
            [
             0.7777777777777778,
             "#fb9f3a"
            ],
            [
             0.8888888888888888,
             "#fdca26"
            ],
            [
             1,
             "#f0f921"
            ]
           ]
          },
          "colorway": [
           "#636efa",
           "#EF553B",
           "#00cc96",
           "#ab63fa",
           "#FFA15A",
           "#19d3f3",
           "#FF6692",
           "#B6E880",
           "#FF97FF",
           "#FECB52"
          ],
          "font": {
           "color": "#2a3f5f"
          },
          "geo": {
           "bgcolor": "white",
           "lakecolor": "white",
           "landcolor": "#E5ECF6",
           "showlakes": true,
           "showland": true,
           "subunitcolor": "white"
          },
          "hoverlabel": {
           "align": "left"
          },
          "hovermode": "closest",
          "mapbox": {
           "style": "light"
          },
          "paper_bgcolor": "white",
          "plot_bgcolor": "#E5ECF6",
          "polar": {
           "angularaxis": {
            "gridcolor": "white",
            "linecolor": "white",
            "ticks": ""
           },
           "bgcolor": "#E5ECF6",
           "radialaxis": {
            "gridcolor": "white",
            "linecolor": "white",
            "ticks": ""
           }
          },
          "scene": {
           "xaxis": {
            "backgroundcolor": "#E5ECF6",
            "gridcolor": "white",
            "gridwidth": 2,
            "linecolor": "white",
            "showbackground": true,
            "ticks": "",
            "zerolinecolor": "white"
           },
           "yaxis": {
            "backgroundcolor": "#E5ECF6",
            "gridcolor": "white",
            "gridwidth": 2,
            "linecolor": "white",
            "showbackground": true,
            "ticks": "",
            "zerolinecolor": "white"
           },
           "zaxis": {
            "backgroundcolor": "#E5ECF6",
            "gridcolor": "white",
            "gridwidth": 2,
            "linecolor": "white",
            "showbackground": true,
            "ticks": "",
            "zerolinecolor": "white"
           }
          },
          "shapedefaults": {
           "line": {
            "color": "#2a3f5f"
           }
          },
          "ternary": {
           "aaxis": {
            "gridcolor": "white",
            "linecolor": "white",
            "ticks": ""
           },
           "baxis": {
            "gridcolor": "white",
            "linecolor": "white",
            "ticks": ""
           },
           "bgcolor": "#E5ECF6",
           "caxis": {
            "gridcolor": "white",
            "linecolor": "white",
            "ticks": ""
           }
          },
          "title": {
           "x": 0.05
          },
          "xaxis": {
           "automargin": true,
           "gridcolor": "white",
           "linecolor": "white",
           "ticks": "",
           "title": {
            "standoff": 15
           },
           "zerolinecolor": "white",
           "zerolinewidth": 2
          },
          "yaxis": {
           "automargin": true,
           "gridcolor": "white",
           "linecolor": "white",
           "ticks": "",
           "title": {
            "standoff": 15
           },
           "zerolinecolor": "white",
           "zerolinewidth": 2
          }
         }
        },
        "title": {
         "text": "Hyperparameter Importances"
        },
        "xaxis": {
         "title": {
          "text": "Hyperparameter Importance"
         }
        },
        "yaxis": {
         "title": {
          "text": "Hyperparameter"
         }
        }
       }
      },
      "text/html": [
       "<div>                            <div id=\"c247dd10-88b7-44c6-8643-adda599f4e45\" class=\"plotly-graph-div\" style=\"height:525px; width:100%;\"></div>            <script type=\"text/javascript\">                require([\"plotly\"], function(Plotly) {                    window.PLOTLYENV=window.PLOTLYENV || {};                                    if (document.getElementById(\"c247dd10-88b7-44c6-8643-adda599f4e45\")) {                    Plotly.newPlot(                        \"c247dd10-88b7-44c6-8643-adda599f4e45\",                        [{\"cliponaxis\":false,\"hovertemplate\":[\"num_layers (IntDistribution): 0.0022775540652113335\\u003cextra\\u003e\\u003c\\u002fextra\\u003e\",\"peak_variable (CategoricalDistribution): 0.004373671984847108\\u003cextra\\u003e\\u003c\\u002fextra\\u003e\",\"batch_size (IntDistribution): 0.018987572874437378\\u003cextra\\u003e\\u003c\\u002fextra\\u003e\",\"size_factor (IntDistribution): 0.02189306836497831\\u003cextra\\u003e\\u003c\\u002fextra\\u003e\",\"learning_decay (FloatDistribution): 0.03099844955763497\\u003cextra\\u003e\\u003c\\u002fextra\\u003e\",\"dropout_rate (FloatDistribution): 0.052722635738949856\\u003cextra\\u003e\\u003c\\u002fextra\\u003e\",\"epoch_num (IntDistribution): 0.3868556525820076\\u003cextra\\u003e\\u003c\\u002fextra\\u003e\",\"learning_rate (FloatDistribution): 0.48189139483193344\\u003cextra\\u003e\\u003c\\u002fextra\\u003e\"],\"name\":\"Objective Value\",\"orientation\":\"h\",\"text\":[\"\\u003c0.01\",\"\\u003c0.01\",\"0.02\",\"0.02\",\"0.03\",\"0.05\",\"0.39\",\"0.48\"],\"textposition\":\"outside\",\"x\":[0.0022775540652113335,0.004373671984847108,0.018987572874437378,0.02189306836497831,0.03099844955763497,0.052722635738949856,0.3868556525820076,0.48189139483193344],\"y\":[\"num_layers\",\"peak_variable\",\"batch_size\",\"size_factor\",\"learning_decay\",\"dropout_rate\",\"epoch_num\",\"learning_rate\"],\"type\":\"bar\"}],                        {\"title\":{\"text\":\"Hyperparameter Importances\"},\"xaxis\":{\"title\":{\"text\":\"Hyperparameter Importance\"}},\"yaxis\":{\"title\":{\"text\":\"Hyperparameter\"}},\"template\":{\"data\":{\"histogram2dcontour\":[{\"type\":\"histogram2dcontour\",\"colorbar\":{\"outlinewidth\":0,\"ticks\":\"\"},\"colorscale\":[[0.0,\"#0d0887\"],[0.1111111111111111,\"#46039f\"],[0.2222222222222222,\"#7201a8\"],[0.3333333333333333,\"#9c179e\"],[0.4444444444444444,\"#bd3786\"],[0.5555555555555556,\"#d8576b\"],[0.6666666666666666,\"#ed7953\"],[0.7777777777777778,\"#fb9f3a\"],[0.8888888888888888,\"#fdca26\"],[1.0,\"#f0f921\"]]}],\"choropleth\":[{\"type\":\"choropleth\",\"colorbar\":{\"outlinewidth\":0,\"ticks\":\"\"}}],\"histogram2d\":[{\"type\":\"histogram2d\",\"colorbar\":{\"outlinewidth\":0,\"ticks\":\"\"},\"colorscale\":[[0.0,\"#0d0887\"],[0.1111111111111111,\"#46039f\"],[0.2222222222222222,\"#7201a8\"],[0.3333333333333333,\"#9c179e\"],[0.4444444444444444,\"#bd3786\"],[0.5555555555555556,\"#d8576b\"],[0.6666666666666666,\"#ed7953\"],[0.7777777777777778,\"#fb9f3a\"],[0.8888888888888888,\"#fdca26\"],[1.0,\"#f0f921\"]]}],\"heatmap\":[{\"type\":\"heatmap\",\"colorbar\":{\"outlinewidth\":0,\"ticks\":\"\"},\"colorscale\":[[0.0,\"#0d0887\"],[0.1111111111111111,\"#46039f\"],[0.2222222222222222,\"#7201a8\"],[0.3333333333333333,\"#9c179e\"],[0.4444444444444444,\"#bd3786\"],[0.5555555555555556,\"#d8576b\"],[0.6666666666666666,\"#ed7953\"],[0.7777777777777778,\"#fb9f3a\"],[0.8888888888888888,\"#fdca26\"],[1.0,\"#f0f921\"]]}],\"heatmapgl\":[{\"type\":\"heatmapgl\",\"colorbar\":{\"outlinewidth\":0,\"ticks\":\"\"},\"colorscale\":[[0.0,\"#0d0887\"],[0.1111111111111111,\"#46039f\"],[0.2222222222222222,\"#7201a8\"],[0.3333333333333333,\"#9c179e\"],[0.4444444444444444,\"#bd3786\"],[0.5555555555555556,\"#d8576b\"],[0.6666666666666666,\"#ed7953\"],[0.7777777777777778,\"#fb9f3a\"],[0.8888888888888888,\"#fdca26\"],[1.0,\"#f0f921\"]]}],\"contourcarpet\":[{\"type\":\"contourcarpet\",\"colorbar\":{\"outlinewidth\":0,\"ticks\":\"\"}}],\"contour\":[{\"type\":\"contour\",\"colorbar\":{\"outlinewidth\":0,\"ticks\":\"\"},\"colorscale\":[[0.0,\"#0d0887\"],[0.1111111111111111,\"#46039f\"],[0.2222222222222222,\"#7201a8\"],[0.3333333333333333,\"#9c179e\"],[0.4444444444444444,\"#bd3786\"],[0.5555555555555556,\"#d8576b\"],[0.6666666666666666,\"#ed7953\"],[0.7777777777777778,\"#fb9f3a\"],[0.8888888888888888,\"#fdca26\"],[1.0,\"#f0f921\"]]}],\"surface\":[{\"type\":\"surface\",\"colorbar\":{\"outlinewidth\":0,\"ticks\":\"\"},\"colorscale\":[[0.0,\"#0d0887\"],[0.1111111111111111,\"#46039f\"],[0.2222222222222222,\"#7201a8\"],[0.3333333333333333,\"#9c179e\"],[0.4444444444444444,\"#bd3786\"],[0.5555555555555556,\"#d8576b\"],[0.6666666666666666,\"#ed7953\"],[0.7777777777777778,\"#fb9f3a\"],[0.8888888888888888,\"#fdca26\"],[1.0,\"#f0f921\"]]}],\"mesh3d\":[{\"type\":\"mesh3d\",\"colorbar\":{\"outlinewidth\":0,\"ticks\":\"\"}}],\"scatter\":[{\"fillpattern\":{\"fillmode\":\"overlay\",\"size\":10,\"solidity\":0.2},\"type\":\"scatter\"}],\"parcoords\":[{\"type\":\"parcoords\",\"line\":{\"colorbar\":{\"outlinewidth\":0,\"ticks\":\"\"}}}],\"scatterpolargl\":[{\"type\":\"scatterpolargl\",\"marker\":{\"colorbar\":{\"outlinewidth\":0,\"ticks\":\"\"}}}],\"bar\":[{\"error_x\":{\"color\":\"#2a3f5f\"},\"error_y\":{\"color\":\"#2a3f5f\"},\"marker\":{\"line\":{\"color\":\"#E5ECF6\",\"width\":0.5},\"pattern\":{\"fillmode\":\"overlay\",\"size\":10,\"solidity\":0.2}},\"type\":\"bar\"}],\"scattergeo\":[{\"type\":\"scattergeo\",\"marker\":{\"colorbar\":{\"outlinewidth\":0,\"ticks\":\"\"}}}],\"scatterpolar\":[{\"type\":\"scatterpolar\",\"marker\":{\"colorbar\":{\"outlinewidth\":0,\"ticks\":\"\"}}}],\"histogram\":[{\"marker\":{\"pattern\":{\"fillmode\":\"overlay\",\"size\":10,\"solidity\":0.2}},\"type\":\"histogram\"}],\"scattergl\":[{\"type\":\"scattergl\",\"marker\":{\"colorbar\":{\"outlinewidth\":0,\"ticks\":\"\"}}}],\"scatter3d\":[{\"type\":\"scatter3d\",\"line\":{\"colorbar\":{\"outlinewidth\":0,\"ticks\":\"\"}},\"marker\":{\"colorbar\":{\"outlinewidth\":0,\"ticks\":\"\"}}}],\"scattermapbox\":[{\"type\":\"scattermapbox\",\"marker\":{\"colorbar\":{\"outlinewidth\":0,\"ticks\":\"\"}}}],\"scatterternary\":[{\"type\":\"scatterternary\",\"marker\":{\"colorbar\":{\"outlinewidth\":0,\"ticks\":\"\"}}}],\"scattercarpet\":[{\"type\":\"scattercarpet\",\"marker\":{\"colorbar\":{\"outlinewidth\":0,\"ticks\":\"\"}}}],\"carpet\":[{\"aaxis\":{\"endlinecolor\":\"#2a3f5f\",\"gridcolor\":\"white\",\"linecolor\":\"white\",\"minorgridcolor\":\"white\",\"startlinecolor\":\"#2a3f5f\"},\"baxis\":{\"endlinecolor\":\"#2a3f5f\",\"gridcolor\":\"white\",\"linecolor\":\"white\",\"minorgridcolor\":\"white\",\"startlinecolor\":\"#2a3f5f\"},\"type\":\"carpet\"}],\"table\":[{\"cells\":{\"fill\":{\"color\":\"#EBF0F8\"},\"line\":{\"color\":\"white\"}},\"header\":{\"fill\":{\"color\":\"#C8D4E3\"},\"line\":{\"color\":\"white\"}},\"type\":\"table\"}],\"barpolar\":[{\"marker\":{\"line\":{\"color\":\"#E5ECF6\",\"width\":0.5},\"pattern\":{\"fillmode\":\"overlay\",\"size\":10,\"solidity\":0.2}},\"type\":\"barpolar\"}],\"pie\":[{\"automargin\":true,\"type\":\"pie\"}]},\"layout\":{\"autotypenumbers\":\"strict\",\"colorway\":[\"#636efa\",\"#EF553B\",\"#00cc96\",\"#ab63fa\",\"#FFA15A\",\"#19d3f3\",\"#FF6692\",\"#B6E880\",\"#FF97FF\",\"#FECB52\"],\"font\":{\"color\":\"#2a3f5f\"},\"hovermode\":\"closest\",\"hoverlabel\":{\"align\":\"left\"},\"paper_bgcolor\":\"white\",\"plot_bgcolor\":\"#E5ECF6\",\"polar\":{\"bgcolor\":\"#E5ECF6\",\"angularaxis\":{\"gridcolor\":\"white\",\"linecolor\":\"white\",\"ticks\":\"\"},\"radialaxis\":{\"gridcolor\":\"white\",\"linecolor\":\"white\",\"ticks\":\"\"}},\"ternary\":{\"bgcolor\":\"#E5ECF6\",\"aaxis\":{\"gridcolor\":\"white\",\"linecolor\":\"white\",\"ticks\":\"\"},\"baxis\":{\"gridcolor\":\"white\",\"linecolor\":\"white\",\"ticks\":\"\"},\"caxis\":{\"gridcolor\":\"white\",\"linecolor\":\"white\",\"ticks\":\"\"}},\"coloraxis\":{\"colorbar\":{\"outlinewidth\":0,\"ticks\":\"\"}},\"colorscale\":{\"sequential\":[[0.0,\"#0d0887\"],[0.1111111111111111,\"#46039f\"],[0.2222222222222222,\"#7201a8\"],[0.3333333333333333,\"#9c179e\"],[0.4444444444444444,\"#bd3786\"],[0.5555555555555556,\"#d8576b\"],[0.6666666666666666,\"#ed7953\"],[0.7777777777777778,\"#fb9f3a\"],[0.8888888888888888,\"#fdca26\"],[1.0,\"#f0f921\"]],\"sequentialminus\":[[0.0,\"#0d0887\"],[0.1111111111111111,\"#46039f\"],[0.2222222222222222,\"#7201a8\"],[0.3333333333333333,\"#9c179e\"],[0.4444444444444444,\"#bd3786\"],[0.5555555555555556,\"#d8576b\"],[0.6666666666666666,\"#ed7953\"],[0.7777777777777778,\"#fb9f3a\"],[0.8888888888888888,\"#fdca26\"],[1.0,\"#f0f921\"]],\"diverging\":[[0,\"#8e0152\"],[0.1,\"#c51b7d\"],[0.2,\"#de77ae\"],[0.3,\"#f1b6da\"],[0.4,\"#fde0ef\"],[0.5,\"#f7f7f7\"],[0.6,\"#e6f5d0\"],[0.7,\"#b8e186\"],[0.8,\"#7fbc41\"],[0.9,\"#4d9221\"],[1,\"#276419\"]]},\"xaxis\":{\"gridcolor\":\"white\",\"linecolor\":\"white\",\"ticks\":\"\",\"title\":{\"standoff\":15},\"zerolinecolor\":\"white\",\"automargin\":true,\"zerolinewidth\":2},\"yaxis\":{\"gridcolor\":\"white\",\"linecolor\":\"white\",\"ticks\":\"\",\"title\":{\"standoff\":15},\"zerolinecolor\":\"white\",\"automargin\":true,\"zerolinewidth\":2},\"scene\":{\"xaxis\":{\"backgroundcolor\":\"#E5ECF6\",\"gridcolor\":\"white\",\"linecolor\":\"white\",\"showbackground\":true,\"ticks\":\"\",\"zerolinecolor\":\"white\",\"gridwidth\":2},\"yaxis\":{\"backgroundcolor\":\"#E5ECF6\",\"gridcolor\":\"white\",\"linecolor\":\"white\",\"showbackground\":true,\"ticks\":\"\",\"zerolinecolor\":\"white\",\"gridwidth\":2},\"zaxis\":{\"backgroundcolor\":\"#E5ECF6\",\"gridcolor\":\"white\",\"linecolor\":\"white\",\"showbackground\":true,\"ticks\":\"\",\"zerolinecolor\":\"white\",\"gridwidth\":2}},\"shapedefaults\":{\"line\":{\"color\":\"#2a3f5f\"}},\"annotationdefaults\":{\"arrowcolor\":\"#2a3f5f\",\"arrowhead\":0,\"arrowwidth\":1},\"geo\":{\"bgcolor\":\"white\",\"landcolor\":\"#E5ECF6\",\"subunitcolor\":\"white\",\"showland\":true,\"showlakes\":true,\"lakecolor\":\"white\"},\"title\":{\"x\":0.05},\"mapbox\":{\"style\":\"light\"}}}},                        {\"responsive\": true}                    ).then(function(){\n",
       "                            \n",
       "var gd = document.getElementById('c247dd10-88b7-44c6-8643-adda599f4e45');\n",
       "var x = new MutationObserver(function (mutations, observer) {{\n",
       "        var display = window.getComputedStyle(gd).display;\n",
       "        if (!display || display === 'none') {{\n",
       "            console.log([gd, 'removed!']);\n",
       "            Plotly.purge(gd);\n",
       "            observer.disconnect();\n",
       "        }}\n",
       "}});\n",
       "\n",
       "// Listen for the removal of the full notebook cells\n",
       "var notebookContainer = gd.closest('#notebook-container');\n",
       "if (notebookContainer) {{\n",
       "    x.observe(notebookContainer, {childList: true});\n",
       "}}\n",
       "\n",
       "// Listen for the clearing of the current output cell\n",
       "var outputEl = gd.closest('.output');\n",
       "if (outputEl) {{\n",
       "    x.observe(outputEl, {childList: true});\n",
       "}}\n",
       "\n",
       "                        })                };                });            </script>        </div>"
      ]
     },
     "metadata": {},
     "output_type": "display_data"
    }
   ],
   "source": [
    "fig = optuna.visualization.plot_param_importances(study)\n",
    "fig.show()"
   ]
  },
  {
   "cell_type": "code",
   "execution_count": 13,
   "id": "c851e68a",
   "metadata": {},
   "outputs": [
    {
     "data": {
      "application/vnd.plotly.v1+json": {
       "config": {
        "plotlyServerURL": "https://plot.ly"
       },
       "data": [
        {
         "marker": {
          "color": [
           1,
           2,
           3,
           4,
           5,
           6,
           7,
           8,
           9,
           10,
           11,
           12,
           13,
           14,
           15,
           16,
           17,
           18,
           19,
           20,
           21,
           22,
           23,
           24,
           25,
           26,
           27,
           28,
           29,
           30,
           31,
           32,
           33,
           34,
           35,
           36,
           37,
           38,
           39,
           40,
           41,
           42,
           43,
           44,
           45,
           46,
           47,
           48,
           49,
           50,
           51,
           52,
           53,
           54,
           55,
           56,
           57,
           58,
           59,
           60,
           61,
           62,
           63,
           64,
           65,
           66,
           67,
           68,
           69,
           70,
           71,
           72,
           73,
           74,
           75,
           76,
           77,
           78,
           79,
           80,
           81,
           82,
           83,
           84,
           85,
           86,
           87,
           88,
           89,
           90,
           91,
           92,
           93,
           94,
           95,
           96,
           97,
           98,
           99,
           100
          ],
          "colorbar": {
           "title": {
            "text": "Trial"
           },
           "x": 1,
           "xpad": 40
          },
          "colorscale": [
           [
            0,
            "rgb(247,251,255)"
           ],
           [
            0.125,
            "rgb(222,235,247)"
           ],
           [
            0.25,
            "rgb(198,219,239)"
           ],
           [
            0.375,
            "rgb(158,202,225)"
           ],
           [
            0.5,
            "rgb(107,174,214)"
           ],
           [
            0.625,
            "rgb(66,146,198)"
           ],
           [
            0.75,
            "rgb(33,113,181)"
           ],
           [
            0.875,
            "rgb(8,81,156)"
           ],
           [
            1,
            "rgb(8,48,107)"
           ]
          ],
          "line": {
           "color": "Grey",
           "width": 0.5
          },
          "showscale": true
         },
         "mode": "markers",
         "name": "Feasible Trial",
         "showlegend": false,
         "type": "scatter",
         "x": [
          12,
          8,
          12,
          12,
          12,
          8,
          8,
          16,
          12,
          16,
          20,
          20,
          20,
          16,
          20,
          16,
          20,
          16,
          20,
          16,
          20,
          20,
          20,
          16,
          20,
          8,
          20,
          12,
          8,
          16,
          16,
          16,
          12,
          12,
          16,
          8,
          8,
          8,
          8,
          8,
          12,
          20,
          8,
          12,
          12,
          12,
          8,
          8,
          12,
          8,
          16,
          16,
          12,
          8,
          8,
          8,
          20,
          20,
          12,
          16,
          20,
          20,
          20,
          20,
          16,
          20,
          20,
          12,
          16,
          20,
          16,
          20,
          20,
          20,
          20,
          12,
          16,
          12,
          8,
          20,
          12,
          8,
          16,
          8,
          8,
          20,
          20,
          20,
          20,
          16,
          20,
          16,
          20,
          20,
          16,
          20,
          20,
          20,
          16,
          20
         ],
         "xaxis": "x",
         "y": [
          6.957898978512648,
          7.276746815971374,
          7.2288527844551185,
          7.795514994239173,
          6.968521287222624,
          6.82668645973624,
          7.174188481588983,
          6.536782528539428,
          7.888022343884776,
          6.935519024456719,
          6.990153876517596,
          6.444882228880412,
          6.839004235649313,
          9.474516694204773,
          7.103340440591663,
          7.500622278237583,
          7.722170399554233,
          7.271393539255845,
          6.673008603896008,
          7.998883682027251,
          7.520906908646225,
          6.877492296374584,
          7.1073836331044875,
          7.699331051646356,
          7.045895947206789,
          7.078776885019519,
          8.033277884364383,
          7.378663039743503,
          6.600043257061181,
          6.719825038031152,
          6.752041828534341,
          7.359710749591258,
          8.555007714832973,
          6.874192062897032,
          7.295155092041878,
          6.379202640067778,
          6.791961908335833,
          6.369689029667095,
          6.300511208775449,
          6.873927251670322,
          7.669741464081367,
          7.092389582441084,
          8.82555415772563,
          6.35610387207664,
          7.6285128374669,
          6.873401703356828,
          6.5992024612739,
          8.088907337371719,
          6.745096933619751,
          7.216443704184928,
          8.182467982107394,
          9.919526897311084,
          8.03528322226405,
          11.224246812300379,
          7.560494128396618,
          7.717849804383218,
          7.512979024429666,
          6.435187251155145,
          9.26345788957089,
          10.434446565003899,
          6.308454527085635,
          6.257427286339622,
          6.291088508024751,
          6.598342870008224,
          6.814051747156195,
          6.753901780220022,
          7.393480660521504,
          7.1442766229833055,
          7.225592527649478,
          6.340627778061598,
          6.851924008252931,
          6.202234038821702,
          6.401570281469089,
          6.178459942619227,
          6.826164722033381,
          8.307293625171019,
          7.3665797420890655,
          7.634286833629571,
          6.595087166558166,
          7.844073806415167,
          10.785265593046997,
          7.419417884367924,
          7.278401706764777,
          8.233302602085647,
          8.562337197696674,
          6.193350448955884,
          6.559729394911204,
          6.547749232994367,
          6.636502070325433,
          7.428713955554121,
          6.647113576014698,
          7.178354064733249,
          6.993859530291227,
          7.047743242813736,
          6.714584499685756,
          7.123330089301294,
          6.565985530429924,
          6.560142630574991,
          6.749522021313093,
          7.04373863191312
         ],
         "yaxis": "y"
        },
        {
         "marker": {
          "color": [
           1,
           2,
           3,
           4,
           5,
           6,
           7,
           8,
           9,
           10,
           11,
           12,
           13,
           14,
           15,
           16,
           17,
           18,
           19,
           20,
           21,
           22,
           23,
           24,
           25,
           26,
           27,
           28,
           29,
           30,
           31,
           32,
           33,
           34,
           35,
           36,
           37,
           38,
           39,
           40,
           41,
           42,
           43,
           44,
           45,
           46,
           47,
           48,
           49,
           50,
           51,
           52,
           53,
           54,
           55,
           56,
           57,
           58,
           59,
           60,
           61,
           62,
           63,
           64,
           65,
           66,
           67,
           68,
           69,
           70,
           71,
           72,
           73,
           74,
           75,
           76,
           77,
           78,
           79,
           80,
           81,
           82,
           83,
           84,
           85,
           86,
           87,
           88,
           89,
           90,
           91,
           92,
           93,
           94,
           95,
           96,
           97,
           98,
           99,
           100
          ],
          "colorbar": {
           "title": {
            "text": "Trial"
           },
           "x": 1,
           "xpad": 40
          },
          "colorscale": [
           [
            0,
            "rgb(247,251,255)"
           ],
           [
            0.125,
            "rgb(222,235,247)"
           ],
           [
            0.25,
            "rgb(198,219,239)"
           ],
           [
            0.375,
            "rgb(158,202,225)"
           ],
           [
            0.5,
            "rgb(107,174,214)"
           ],
           [
            0.625,
            "rgb(66,146,198)"
           ],
           [
            0.75,
            "rgb(33,113,181)"
           ],
           [
            0.875,
            "rgb(8,81,156)"
           ],
           [
            1,
            "rgb(8,48,107)"
           ]
          ],
          "line": {
           "color": "Grey",
           "width": 0.5
          },
          "showscale": false
         },
         "mode": "markers",
         "name": "Feasible Trial",
         "showlegend": false,
         "type": "scatter",
         "x": [
          0.23615111496391447,
          0.2891573239136224,
          0.3176253834277236,
          0.3356964595483646,
          0.1020641464524584,
          0.259152632991716,
          0.2515314450411592,
          0.3731084671409174,
          0.28058333157128224,
          0.3988722897651834,
          0.39816805411375406,
          0.17916544921870048,
          0.16391359524316362,
          0.19112575473755652,
          0.18500852469354168,
          0.12804896689597445,
          0.21402316716824762,
          0.35667292496781566,
          0.36302968869234087,
          0.14742631236222076,
          0.21478230500557854,
          0.3498713264522409,
          0.3719440138132574,
          0.3118061206109499,
          0.36469465568102183,
          0.2935424722440866,
          0.14138636415941508,
          0.3616202549836204,
          0.31795017237008827,
          0.13894577853276693,
          0.1533082800017325,
          0.34998705079472947,
          0.21225296182428016,
          0.2215982874409858,
          0.2910561293025945,
          0.38459894357325564,
          0.39985659142966284,
          0.3213060805116477,
          0.3997276872609079,
          0.34219922249991963,
          0.25379332182239356,
          0.31012818571569845,
          0.26536226238468696,
          0.3638518772315387,
          0.37335608837483014,
          0.39765369011108553,
          0.33454778463196416,
          0.36428683849098253,
          0.326660603648381,
          0.2807320354368795,
          0.18467229586734116,
          0.14898159862331017,
          0.28298785435978807,
          0.20640123212167807,
          0.26896152795577144,
          0.22632489094321626,
          0.10054413763618825,
          0.1022243476941711,
          0.33316484821293,
          0.11419485453638016,
          0.39414510214742376,
          0.39711457174055187,
          0.38274744113197395,
          0.3862124075669555,
          0.34256795200510287,
          0.33828959135127074,
          0.3050580081233898,
          0.3637069697499434,
          0.3969280944588769,
          0.31921988693628567,
          0.3637813437130781,
          0.3961410306531042,
          0.36480412724232575,
          0.3649088186873377,
          0.29789286237846724,
          0.13069672411079752,
          0.2540349223823776,
          0.11463790530130966,
          0.3375019620918142,
          0.39040750183340145,
          0.29393265440723565,
          0.3424677190568082,
          0.3267406127604696,
          0.11692602030567509,
          0.14431507344506928,
          0.20608540744705267,
          0.1986977247908181,
          0.19283858904162599,
          0.201125471193324,
          0.18819037154315127,
          0.24689359494507546,
          0.1678690625783234,
          0.2275075654811488,
          0.2747322838237312,
          0.16585300890347188,
          0.23139291743581755,
          0.2050367403649727,
          0.17309232597042745,
          0.21123325322048425,
          0.1503823795851436
         ],
         "xaxis": "x2",
         "y": [
          6.957898978512648,
          7.276746815971374,
          7.2288527844551185,
          7.795514994239173,
          6.968521287222624,
          6.82668645973624,
          7.174188481588983,
          6.536782528539428,
          7.888022343884776,
          6.935519024456719,
          6.990153876517596,
          6.444882228880412,
          6.839004235649313,
          9.474516694204773,
          7.103340440591663,
          7.500622278237583,
          7.722170399554233,
          7.271393539255845,
          6.673008603896008,
          7.998883682027251,
          7.520906908646225,
          6.877492296374584,
          7.1073836331044875,
          7.699331051646356,
          7.045895947206789,
          7.078776885019519,
          8.033277884364383,
          7.378663039743503,
          6.600043257061181,
          6.719825038031152,
          6.752041828534341,
          7.359710749591258,
          8.555007714832973,
          6.874192062897032,
          7.295155092041878,
          6.379202640067778,
          6.791961908335833,
          6.369689029667095,
          6.300511208775449,
          6.873927251670322,
          7.669741464081367,
          7.092389582441084,
          8.82555415772563,
          6.35610387207664,
          7.6285128374669,
          6.873401703356828,
          6.5992024612739,
          8.088907337371719,
          6.745096933619751,
          7.216443704184928,
          8.182467982107394,
          9.919526897311084,
          8.03528322226405,
          11.224246812300379,
          7.560494128396618,
          7.717849804383218,
          7.512979024429666,
          6.435187251155145,
          9.26345788957089,
          10.434446565003899,
          6.308454527085635,
          6.257427286339622,
          6.291088508024751,
          6.598342870008224,
          6.814051747156195,
          6.753901780220022,
          7.393480660521504,
          7.1442766229833055,
          7.225592527649478,
          6.340627778061598,
          6.851924008252931,
          6.202234038821702,
          6.401570281469089,
          6.178459942619227,
          6.826164722033381,
          8.307293625171019,
          7.3665797420890655,
          7.634286833629571,
          6.595087166558166,
          7.844073806415167,
          10.785265593046997,
          7.419417884367924,
          7.278401706764777,
          8.233302602085647,
          8.562337197696674,
          6.193350448955884,
          6.559729394911204,
          6.547749232994367,
          6.636502070325433,
          7.428713955554121,
          6.647113576014698,
          7.178354064733249,
          6.993859530291227,
          7.047743242813736,
          6.714584499685756,
          7.123330089301294,
          6.565985530429924,
          6.560142630574991,
          6.749522021313093,
          7.04373863191312
         ],
         "yaxis": "y2"
        },
        {
         "marker": {
          "color": [
           1,
           2,
           3,
           4,
           5,
           6,
           7,
           8,
           9,
           10,
           11,
           12,
           13,
           14,
           15,
           16,
           17,
           18,
           19,
           20,
           21,
           22,
           23,
           24,
           25,
           26,
           27,
           28,
           29,
           30,
           31,
           32,
           33,
           34,
           35,
           36,
           37,
           38,
           39,
           40,
           41,
           42,
           43,
           44,
           45,
           46,
           47,
           48,
           49,
           50,
           51,
           52,
           53,
           54,
           55,
           56,
           57,
           58,
           59,
           60,
           61,
           62,
           63,
           64,
           65,
           66,
           67,
           68,
           69,
           70,
           71,
           72,
           73,
           74,
           75,
           76,
           77,
           78,
           79,
           80,
           81,
           82,
           83,
           84,
           85,
           86,
           87,
           88,
           89,
           90,
           91,
           92,
           93,
           94,
           95,
           96,
           97,
           98,
           99,
           100
          ],
          "colorbar": {
           "title": {
            "text": "Trial"
           },
           "x": 1,
           "xpad": 40
          },
          "colorscale": [
           [
            0,
            "rgb(247,251,255)"
           ],
           [
            0.125,
            "rgb(222,235,247)"
           ],
           [
            0.25,
            "rgb(198,219,239)"
           ],
           [
            0.375,
            "rgb(158,202,225)"
           ],
           [
            0.5,
            "rgb(107,174,214)"
           ],
           [
            0.625,
            "rgb(66,146,198)"
           ],
           [
            0.75,
            "rgb(33,113,181)"
           ],
           [
            0.875,
            "rgb(8,81,156)"
           ],
           [
            1,
            "rgb(8,48,107)"
           ]
          ],
          "line": {
           "color": "Grey",
           "width": 0.5
          },
          "showscale": false
         },
         "mode": "markers",
         "name": "Feasible Trial",
         "showlegend": false,
         "type": "scatter",
         "x": [
          1500,
          1500,
          1000,
          1500,
          1500,
          1500,
          500,
          1000,
          1000,
          1000,
          500,
          1000,
          1000,
          500,
          1000,
          1000,
          500,
          1000,
          1000,
          500,
          1000,
          1000,
          1000,
          1000,
          1000,
          1500,
          500,
          1000,
          1500,
          1500,
          1500,
          1500,
          500,
          1500,
          1000,
          1000,
          1000,
          1000,
          1000,
          500,
          1000,
          1000,
          500,
          1000,
          500,
          1000,
          1000,
          1000,
          1000,
          1000,
          500,
          500,
          1500,
          500,
          1000,
          1000,
          1000,
          1500,
          500,
          500,
          1500,
          1500,
          1500,
          1500,
          1500,
          1500,
          1000,
          1500,
          1000,
          1500,
          1500,
          1500,
          1500,
          1000,
          1000,
          500,
          1000,
          1000,
          1500,
          500,
          500,
          1500,
          1500,
          1000,
          1000,
          1500,
          1500,
          1500,
          1500,
          1500,
          1500,
          1000,
          1500,
          1500,
          1000,
          1500,
          1500,
          1500,
          1500,
          1000
         ],
         "xaxis": "x3",
         "y": [
          6.957898978512648,
          7.276746815971374,
          7.2288527844551185,
          7.795514994239173,
          6.968521287222624,
          6.82668645973624,
          7.174188481588983,
          6.536782528539428,
          7.888022343884776,
          6.935519024456719,
          6.990153876517596,
          6.444882228880412,
          6.839004235649313,
          9.474516694204773,
          7.103340440591663,
          7.500622278237583,
          7.722170399554233,
          7.271393539255845,
          6.673008603896008,
          7.998883682027251,
          7.520906908646225,
          6.877492296374584,
          7.1073836331044875,
          7.699331051646356,
          7.045895947206789,
          7.078776885019519,
          8.033277884364383,
          7.378663039743503,
          6.600043257061181,
          6.719825038031152,
          6.752041828534341,
          7.359710749591258,
          8.555007714832973,
          6.874192062897032,
          7.295155092041878,
          6.379202640067778,
          6.791961908335833,
          6.369689029667095,
          6.300511208775449,
          6.873927251670322,
          7.669741464081367,
          7.092389582441084,
          8.82555415772563,
          6.35610387207664,
          7.6285128374669,
          6.873401703356828,
          6.5992024612739,
          8.088907337371719,
          6.745096933619751,
          7.216443704184928,
          8.182467982107394,
          9.919526897311084,
          8.03528322226405,
          11.224246812300379,
          7.560494128396618,
          7.717849804383218,
          7.512979024429666,
          6.435187251155145,
          9.26345788957089,
          10.434446565003899,
          6.308454527085635,
          6.257427286339622,
          6.291088508024751,
          6.598342870008224,
          6.814051747156195,
          6.753901780220022,
          7.393480660521504,
          7.1442766229833055,
          7.225592527649478,
          6.340627778061598,
          6.851924008252931,
          6.202234038821702,
          6.401570281469089,
          6.178459942619227,
          6.826164722033381,
          8.307293625171019,
          7.3665797420890655,
          7.634286833629571,
          6.595087166558166,
          7.844073806415167,
          10.785265593046997,
          7.419417884367924,
          7.278401706764777,
          8.233302602085647,
          8.562337197696674,
          6.193350448955884,
          6.559729394911204,
          6.547749232994367,
          6.636502070325433,
          7.428713955554121,
          6.647113576014698,
          7.178354064733249,
          6.993859530291227,
          7.047743242813736,
          6.714584499685756,
          7.123330089301294,
          6.565985530429924,
          6.560142630574991,
          6.749522021313093,
          7.04373863191312
         ],
         "yaxis": "y3"
        },
        {
         "marker": {
          "color": [
           1,
           2,
           3,
           4,
           5,
           6,
           7,
           8,
           9,
           10,
           11,
           12,
           13,
           14,
           15,
           16,
           17,
           18,
           19,
           20,
           21,
           22,
           23,
           24,
           25,
           26,
           27,
           28,
           29,
           30,
           31,
           32,
           33,
           34,
           35,
           36,
           37,
           38,
           39,
           40,
           41,
           42,
           43,
           44,
           45,
           46,
           47,
           48,
           49,
           50,
           51,
           52,
           53,
           54,
           55,
           56,
           57,
           58,
           59,
           60,
           61,
           62,
           63,
           64,
           65,
           66,
           67,
           68,
           69,
           70,
           71,
           72,
           73,
           74,
           75,
           76,
           77,
           78,
           79,
           80,
           81,
           82,
           83,
           84,
           85,
           86,
           87,
           88,
           89,
           90,
           91,
           92,
           93,
           94,
           95,
           96,
           97,
           98,
           99,
           100
          ],
          "colorbar": {
           "title": {
            "text": "Trial"
           },
           "x": 1,
           "xpad": 40
          },
          "colorscale": [
           [
            0,
            "rgb(247,251,255)"
           ],
           [
            0.125,
            "rgb(222,235,247)"
           ],
           [
            0.25,
            "rgb(198,219,239)"
           ],
           [
            0.375,
            "rgb(158,202,225)"
           ],
           [
            0.5,
            "rgb(107,174,214)"
           ],
           [
            0.625,
            "rgb(66,146,198)"
           ],
           [
            0.75,
            "rgb(33,113,181)"
           ],
           [
            0.875,
            "rgb(8,81,156)"
           ],
           [
            1,
            "rgb(8,48,107)"
           ]
          ],
          "line": {
           "color": "Grey",
           "width": 0.5
          },
          "showscale": false
         },
         "mode": "markers",
         "name": "Feasible Trial",
         "showlegend": false,
         "type": "scatter",
         "x": [
          0.07300782169915367,
          0.03752706898294905,
          0.08488615694408977,
          0.08738527206526162,
          0.0501888143224203,
          0.07852037123370163,
          0.06048795021059208,
          0.03691996901701198,
          0.08028522739183151,
          0.07073563819702887,
          0.027791994755134858,
          0.09810009914348419,
          0.09610953635102665,
          0.05215561146600102,
          0.04126524592512725,
          0.09890753026524597,
          0.029271557323560286,
          0.06054745796449459,
          0.049192445257261255,
          0.09003106221605711,
          0.0670326529654956,
          0.044999442087571125,
          0.03483393260008065,
          0.05399341919836604,
          0.04420306814432922,
          0.05073867379721595,
          0.0992208518261718,
          0.08852780133490545,
          0.09390405213735875,
          0.09315586231350204,
          0.0908285912109052,
          0.08802630548107515,
          0.05484656778034225,
          0.06223301437556289,
          0.09022059036618074,
          0.02585361801737361,
          0.029527479763593524,
          0.026860009171214144,
          0.02879399141395258,
          0.03957024779467243,
          0.03954949662874806,
          0.07739448443522616,
          0.034763280899368226,
          0.0478753864009266,
          0.04692376912996185,
          0.06989319281032985,
          0.03308567511424615,
          0.042917214276831026,
          0.025743058227109553,
          0.05686166404722731,
          0.057343383668654456,
          0.05518484713931905,
          0.06700739258091953,
          0.0748877584316243,
          0.08545435294204867,
          0.08442868852436818,
          0.08195215715030182,
          0.05015455128094771,
          0.07279948243311155,
          0.03628747930169892,
          0.026911392740095054,
          0.031057080950317357,
          0.025284826119613198,
          0.025227503114928402,
          0.040510286953038,
          0.04048698934567538,
          0.03239048694198688,
          0.048557782491074564,
          0.04468637605047998,
          0.09410360066363538,
          0.03125248083100348,
          0.026025746959433875,
          0.033737682943868946,
          0.027187180982466676,
          0.0391148851158449,
          0.0875557459114385,
          0.0932275684202021,
          0.09885495272511066,
          0.07683940560847047,
          0.09933194177740529,
          0.05970539244533744,
          0.06283736015657512,
          0.0673141883914156,
          0.04218755601418611,
          0.04626018982000643,
          0.07893062119853911,
          0.08096918263623455,
          0.07921798466370668,
          0.07435893353767117,
          0.05437023696329636,
          0.071410335060767,
          0.0848432944789936,
          0.03150725153210779,
          0.08924352534183838,
          0.07947338679184955,
          0.06860225093888474,
          0.08046554134507192,
          0.08153502098295212,
          0.09075316944959388,
          0.07153490804770565
         ],
         "xaxis": "x4",
         "y": [
          6.957898978512648,
          7.276746815971374,
          7.2288527844551185,
          7.795514994239173,
          6.968521287222624,
          6.82668645973624,
          7.174188481588983,
          6.536782528539428,
          7.888022343884776,
          6.935519024456719,
          6.990153876517596,
          6.444882228880412,
          6.839004235649313,
          9.474516694204773,
          7.103340440591663,
          7.500622278237583,
          7.722170399554233,
          7.271393539255845,
          6.673008603896008,
          7.998883682027251,
          7.520906908646225,
          6.877492296374584,
          7.1073836331044875,
          7.699331051646356,
          7.045895947206789,
          7.078776885019519,
          8.033277884364383,
          7.378663039743503,
          6.600043257061181,
          6.719825038031152,
          6.752041828534341,
          7.359710749591258,
          8.555007714832973,
          6.874192062897032,
          7.295155092041878,
          6.379202640067778,
          6.791961908335833,
          6.369689029667095,
          6.300511208775449,
          6.873927251670322,
          7.669741464081367,
          7.092389582441084,
          8.82555415772563,
          6.35610387207664,
          7.6285128374669,
          6.873401703356828,
          6.5992024612739,
          8.088907337371719,
          6.745096933619751,
          7.216443704184928,
          8.182467982107394,
          9.919526897311084,
          8.03528322226405,
          11.224246812300379,
          7.560494128396618,
          7.717849804383218,
          7.512979024429666,
          6.435187251155145,
          9.26345788957089,
          10.434446565003899,
          6.308454527085635,
          6.257427286339622,
          6.291088508024751,
          6.598342870008224,
          6.814051747156195,
          6.753901780220022,
          7.393480660521504,
          7.1442766229833055,
          7.225592527649478,
          6.340627778061598,
          6.851924008252931,
          6.202234038821702,
          6.401570281469089,
          6.178459942619227,
          6.826164722033381,
          8.307293625171019,
          7.3665797420890655,
          7.634286833629571,
          6.595087166558166,
          7.844073806415167,
          10.785265593046997,
          7.419417884367924,
          7.278401706764777,
          8.233302602085647,
          8.562337197696674,
          6.193350448955884,
          6.559729394911204,
          6.547749232994367,
          6.636502070325433,
          7.428713955554121,
          6.647113576014698,
          7.178354064733249,
          6.993859530291227,
          7.047743242813736,
          6.714584499685756,
          7.123330089301294,
          6.565985530429924,
          6.560142630574991,
          6.749522021313093,
          7.04373863191312
         ],
         "yaxis": "y4"
        },
        {
         "marker": {
          "color": [
           1,
           2,
           3,
           4,
           5,
           6,
           7,
           8,
           9,
           10,
           11,
           12,
           13,
           14,
           15,
           16,
           17,
           18,
           19,
           20,
           21,
           22,
           23,
           24,
           25,
           26,
           27,
           28,
           29,
           30,
           31,
           32,
           33,
           34,
           35,
           36,
           37,
           38,
           39,
           40,
           41,
           42,
           43,
           44,
           45,
           46,
           47,
           48,
           49,
           50,
           51,
           52,
           53,
           54,
           55,
           56,
           57,
           58,
           59,
           60,
           61,
           62,
           63,
           64,
           65,
           66,
           67,
           68,
           69,
           70,
           71,
           72,
           73,
           74,
           75,
           76,
           77,
           78,
           79,
           80,
           81,
           82,
           83,
           84,
           85,
           86,
           87,
           88,
           89,
           90,
           91,
           92,
           93,
           94,
           95,
           96,
           97,
           98,
           99,
           100
          ],
          "colorbar": {
           "title": {
            "text": "Trial"
           },
           "x": 1,
           "xpad": 40
          },
          "colorscale": [
           [
            0,
            "rgb(247,251,255)"
           ],
           [
            0.125,
            "rgb(222,235,247)"
           ],
           [
            0.25,
            "rgb(198,219,239)"
           ],
           [
            0.375,
            "rgb(158,202,225)"
           ],
           [
            0.5,
            "rgb(107,174,214)"
           ],
           [
            0.625,
            "rgb(66,146,198)"
           ],
           [
            0.75,
            "rgb(33,113,181)"
           ],
           [
            0.875,
            "rgb(8,81,156)"
           ],
           [
            1,
            "rgb(8,48,107)"
           ]
          ],
          "line": {
           "color": "Grey",
           "width": 0.5
          },
          "showscale": false
         },
         "mode": "markers",
         "name": "Feasible Trial",
         "showlegend": false,
         "type": "scatter",
         "x": [
          0.00017971232284571726,
          0.00016254466984661178,
          0.0006450516218984084,
          0.00010718349723524421,
          0.0008613812390355123,
          0.00047088607129983437,
          0.0008868209555299067,
          0.0009545111108943343,
          0.00014749759490956813,
          0.000968006506824039,
          0.00034363951626617734,
          0.00040480514575048774,
          0.000302355583800899,
          0.00005985725021252354,
          0.0005326080680148682,
          0.00030792996521173907,
          0.0004195774692342898,
          0.0006542265243183339,
          0.00023886039063369707,
          0.0007021915875820893,
          0.00009616524271757531,
          0.00022683556672406264,
          0.0002327612634072846,
          0.00034820310202002004,
          0.0002487431093197935,
          0.00045154454748000736,
          0.00019724337468551273,
          0.00005365174931407479,
          0.00048762670335873596,
          0.0002685557901301477,
          0.0005778609665769231,
          0.0001164471289500507,
          0.00005978695418897332,
          0.0006710909437033693,
          0.00031216743816612564,
          0.0008453564390979558,
          0.0009530588081836868,
          0.0009826641728634298,
          0.0009288990906406564,
          0.0009262229232084394,
          0.00017385524341749763,
          0.0003350131942710733,
          0.00012669638366698963,
          0.0006786976679009823,
          0.00042516938540551895,
          0.0006623874499992068,
          0.0007507832376623951,
          0.0005809003562352317,
          0.0008733172384629105,
          0.0009905674023504556,
          0.00027418510846261647,
          0.00023898341069734572,
          0.00006544046291762128,
          0.00013341503928212278,
          0.00012607441349910475,
          0.00008201211591776549,
          0.00021600112763947894,
          0.000602287242564757,
          0.00007392956322224063,
          0.00011868153317244059,
          0.0009330792355527887,
          0.000942376939053766,
          0.0009350048189918129,
          0.0009742506563236344,
          0.0005185417911719926,
          0.0004959291835050414,
          0.00037113642961060256,
          0.0007160179948206979,
          0.0003526508834537922,
          0.0007455200000896888,
          0.00043384593035680134,
          0.0008216482887176104,
          0.0007435402886496392,
          0.0009904117715878512,
          0.000635669156583551,
          0.00043737503057204445,
          0.00024476205317279444,
          0.0007801107773147865,
          0.0007171482907279352,
          0.00009802202568759417,
          0.0000511038234070031,
          0.00012792471584727224,
          0.0001839336340685864,
          0.00016251221366715612,
          0.00012145855744715282,
          0.0009801069585680308,
          0.0009500091327032593,
          0.0009260451275277747,
          0.0004702501316685228,
          0.0004701449319137751,
          0.0002985210860498971,
          0.0005902831127030014,
          0.0009317814467994808,
          0.00032699570553127724,
          0.0006131395038818742,
          0.0000643902848640182,
          0.0008981627361583465,
          0.0009514018033926598,
          0.0006421870778693877,
          0.000989661479291807
         ],
         "xaxis": "x5",
         "y": [
          6.957898978512648,
          7.276746815971374,
          7.2288527844551185,
          7.795514994239173,
          6.968521287222624,
          6.82668645973624,
          7.174188481588983,
          6.536782528539428,
          7.888022343884776,
          6.935519024456719,
          6.990153876517596,
          6.444882228880412,
          6.839004235649313,
          9.474516694204773,
          7.103340440591663,
          7.500622278237583,
          7.722170399554233,
          7.271393539255845,
          6.673008603896008,
          7.998883682027251,
          7.520906908646225,
          6.877492296374584,
          7.1073836331044875,
          7.699331051646356,
          7.045895947206789,
          7.078776885019519,
          8.033277884364383,
          7.378663039743503,
          6.600043257061181,
          6.719825038031152,
          6.752041828534341,
          7.359710749591258,
          8.555007714832973,
          6.874192062897032,
          7.295155092041878,
          6.379202640067778,
          6.791961908335833,
          6.369689029667095,
          6.300511208775449,
          6.873927251670322,
          7.669741464081367,
          7.092389582441084,
          8.82555415772563,
          6.35610387207664,
          7.6285128374669,
          6.873401703356828,
          6.5992024612739,
          8.088907337371719,
          6.745096933619751,
          7.216443704184928,
          8.182467982107394,
          9.919526897311084,
          8.03528322226405,
          11.224246812300379,
          7.560494128396618,
          7.717849804383218,
          7.512979024429666,
          6.435187251155145,
          9.26345788957089,
          10.434446565003899,
          6.308454527085635,
          6.257427286339622,
          6.291088508024751,
          6.598342870008224,
          6.814051747156195,
          6.753901780220022,
          7.393480660521504,
          7.1442766229833055,
          7.225592527649478,
          6.340627778061598,
          6.851924008252931,
          6.202234038821702,
          6.401570281469089,
          6.178459942619227,
          6.826164722033381,
          8.307293625171019,
          7.3665797420890655,
          7.634286833629571,
          6.595087166558166,
          7.844073806415167,
          10.785265593046997,
          7.419417884367924,
          7.278401706764777,
          8.233302602085647,
          8.562337197696674,
          6.193350448955884,
          6.559729394911204,
          6.547749232994367,
          6.636502070325433,
          7.428713955554121,
          6.647113576014698,
          7.178354064733249,
          6.993859530291227,
          7.047743242813736,
          6.714584499685756,
          7.123330089301294,
          6.565985530429924,
          6.560142630574991,
          6.749522021313093,
          7.04373863191312
         ],
         "yaxis": "y5"
        },
        {
         "marker": {
          "color": [
           1,
           2,
           3,
           4,
           5,
           6,
           7,
           8,
           9,
           10,
           11,
           12,
           13,
           14,
           15,
           16,
           17,
           18,
           19,
           20,
           21,
           22,
           23,
           24,
           25,
           26,
           27,
           28,
           29,
           30,
           31,
           32,
           33,
           34,
           35,
           36,
           37,
           38,
           39,
           40,
           41,
           42,
           43,
           44,
           45,
           46,
           47,
           48,
           49,
           50,
           51,
           52,
           53,
           54,
           55,
           56,
           57,
           58,
           59,
           60,
           61,
           62,
           63,
           64,
           65,
           66,
           67,
           68,
           69,
           70,
           71,
           72,
           73,
           74,
           75,
           76,
           77,
           78,
           79,
           80,
           81,
           82,
           83,
           84,
           85,
           86,
           87,
           88,
           89,
           90,
           91,
           92,
           93,
           94,
           95,
           96,
           97,
           98,
           99,
           100
          ],
          "colorbar": {
           "title": {
            "text": "Trial"
           },
           "x": 1,
           "xpad": 40
          },
          "colorscale": [
           [
            0,
            "rgb(247,251,255)"
           ],
           [
            0.125,
            "rgb(222,235,247)"
           ],
           [
            0.25,
            "rgb(198,219,239)"
           ],
           [
            0.375,
            "rgb(158,202,225)"
           ],
           [
            0.5,
            "rgb(107,174,214)"
           ],
           [
            0.625,
            "rgb(66,146,198)"
           ],
           [
            0.75,
            "rgb(33,113,181)"
           ],
           [
            0.875,
            "rgb(8,81,156)"
           ],
           [
            1,
            "rgb(8,48,107)"
           ]
          ],
          "line": {
           "color": "Grey",
           "width": 0.5
          },
          "showscale": false
         },
         "mode": "markers",
         "name": "Feasible Trial",
         "showlegend": false,
         "type": "scatter",
         "x": [
          3,
          3,
          3,
          2,
          3,
          2,
          2,
          3,
          3,
          2,
          3,
          2,
          2,
          2,
          2,
          3,
          3,
          2,
          3,
          2,
          3,
          3,
          3,
          3,
          3,
          3,
          3,
          2,
          3,
          2,
          2,
          2,
          3,
          3,
          2,
          3,
          3,
          3,
          3,
          3,
          3,
          3,
          3,
          3,
          3,
          2,
          3,
          3,
          3,
          3,
          2,
          3,
          2,
          2,
          2,
          3,
          2,
          3,
          3,
          3,
          3,
          3,
          3,
          3,
          3,
          3,
          3,
          3,
          3,
          3,
          2,
          3,
          3,
          3,
          3,
          3,
          3,
          2,
          2,
          3,
          2,
          2,
          3,
          2,
          3,
          2,
          2,
          2,
          2,
          2,
          2,
          2,
          2,
          2,
          2,
          3,
          2,
          2,
          2,
          2
         ],
         "xaxis": "x6",
         "y": [
          6.957898978512648,
          7.276746815971374,
          7.2288527844551185,
          7.795514994239173,
          6.968521287222624,
          6.82668645973624,
          7.174188481588983,
          6.536782528539428,
          7.888022343884776,
          6.935519024456719,
          6.990153876517596,
          6.444882228880412,
          6.839004235649313,
          9.474516694204773,
          7.103340440591663,
          7.500622278237583,
          7.722170399554233,
          7.271393539255845,
          6.673008603896008,
          7.998883682027251,
          7.520906908646225,
          6.877492296374584,
          7.1073836331044875,
          7.699331051646356,
          7.045895947206789,
          7.078776885019519,
          8.033277884364383,
          7.378663039743503,
          6.600043257061181,
          6.719825038031152,
          6.752041828534341,
          7.359710749591258,
          8.555007714832973,
          6.874192062897032,
          7.295155092041878,
          6.379202640067778,
          6.791961908335833,
          6.369689029667095,
          6.300511208775449,
          6.873927251670322,
          7.669741464081367,
          7.092389582441084,
          8.82555415772563,
          6.35610387207664,
          7.6285128374669,
          6.873401703356828,
          6.5992024612739,
          8.088907337371719,
          6.745096933619751,
          7.216443704184928,
          8.182467982107394,
          9.919526897311084,
          8.03528322226405,
          11.224246812300379,
          7.560494128396618,
          7.717849804383218,
          7.512979024429666,
          6.435187251155145,
          9.26345788957089,
          10.434446565003899,
          6.308454527085635,
          6.257427286339622,
          6.291088508024751,
          6.598342870008224,
          6.814051747156195,
          6.753901780220022,
          7.393480660521504,
          7.1442766229833055,
          7.225592527649478,
          6.340627778061598,
          6.851924008252931,
          6.202234038821702,
          6.401570281469089,
          6.178459942619227,
          6.826164722033381,
          8.307293625171019,
          7.3665797420890655,
          7.634286833629571,
          6.595087166558166,
          7.844073806415167,
          10.785265593046997,
          7.419417884367924,
          7.278401706764777,
          8.233302602085647,
          8.562337197696674,
          6.193350448955884,
          6.559729394911204,
          6.547749232994367,
          6.636502070325433,
          7.428713955554121,
          6.647113576014698,
          7.178354064733249,
          6.993859530291227,
          7.047743242813736,
          6.714584499685756,
          7.123330089301294,
          6.565985530429924,
          6.560142630574991,
          6.749522021313093,
          7.04373863191312
         ],
         "yaxis": "y6"
        },
        {
         "marker": {
          "color": [
           1,
           2,
           3,
           4,
           5,
           6,
           7,
           8,
           9,
           10,
           11,
           12,
           13,
           14,
           15,
           16,
           17,
           18,
           19,
           20,
           21,
           22,
           23,
           24,
           25,
           26,
           27,
           28,
           29,
           30,
           31,
           32,
           33,
           34,
           35,
           36,
           37,
           38,
           39,
           40,
           41,
           42,
           43,
           44,
           45,
           46,
           47,
           48,
           49,
           50,
           51,
           52,
           53,
           54,
           55,
           56,
           57,
           58,
           59,
           60,
           61,
           62,
           63,
           64,
           65,
           66,
           67,
           68,
           69,
           70,
           71,
           72,
           73,
           74,
           75,
           76,
           77,
           78,
           79,
           80,
           81,
           82,
           83,
           84,
           85,
           86,
           87,
           88,
           89,
           90,
           91,
           92,
           93,
           94,
           95,
           96,
           97,
           98,
           99,
           100
          ],
          "colorbar": {
           "title": {
            "text": "Trial"
           },
           "x": 1,
           "xpad": 40
          },
          "colorscale": [
           [
            0,
            "rgb(247,251,255)"
           ],
           [
            0.125,
            "rgb(222,235,247)"
           ],
           [
            0.25,
            "rgb(198,219,239)"
           ],
           [
            0.375,
            "rgb(158,202,225)"
           ],
           [
            0.5,
            "rgb(107,174,214)"
           ],
           [
            0.625,
            "rgb(66,146,198)"
           ],
           [
            0.75,
            "rgb(33,113,181)"
           ],
           [
            0.875,
            "rgb(8,81,156)"
           ],
           [
            1,
            "rgb(8,48,107)"
           ]
          ],
          "line": {
           "color": "Grey",
           "width": 0.5
          },
          "showscale": false
         },
         "mode": "markers",
         "name": "Feasible Trial",
         "showlegend": false,
         "type": "scatter",
         "x": [
          true,
          false,
          true,
          false,
          true,
          false,
          true,
          false,
          true,
          false,
          false,
          false,
          false,
          false,
          false,
          false,
          false,
          false,
          false,
          false,
          false,
          false,
          false,
          false,
          false,
          false,
          false,
          true,
          true,
          false,
          false,
          false,
          false,
          false,
          true,
          true,
          true,
          true,
          true,
          true,
          true,
          true,
          true,
          true,
          true,
          true,
          true,
          true,
          true,
          true,
          false,
          true,
          true,
          true,
          false,
          true,
          false,
          false,
          true,
          false,
          false,
          false,
          false,
          false,
          false,
          false,
          false,
          false,
          false,
          false,
          false,
          false,
          false,
          false,
          false,
          false,
          true,
          false,
          false,
          false,
          true,
          true,
          false,
          false,
          false,
          true,
          true,
          true,
          true,
          true,
          true,
          true,
          true,
          true,
          true,
          true,
          true,
          true,
          true,
          true
         ],
         "xaxis": "x7",
         "y": [
          6.957898978512648,
          7.276746815971374,
          7.2288527844551185,
          7.795514994239173,
          6.968521287222624,
          6.82668645973624,
          7.174188481588983,
          6.536782528539428,
          7.888022343884776,
          6.935519024456719,
          6.990153876517596,
          6.444882228880412,
          6.839004235649313,
          9.474516694204773,
          7.103340440591663,
          7.500622278237583,
          7.722170399554233,
          7.271393539255845,
          6.673008603896008,
          7.998883682027251,
          7.520906908646225,
          6.877492296374584,
          7.1073836331044875,
          7.699331051646356,
          7.045895947206789,
          7.078776885019519,
          8.033277884364383,
          7.378663039743503,
          6.600043257061181,
          6.719825038031152,
          6.752041828534341,
          7.359710749591258,
          8.555007714832973,
          6.874192062897032,
          7.295155092041878,
          6.379202640067778,
          6.791961908335833,
          6.369689029667095,
          6.300511208775449,
          6.873927251670322,
          7.669741464081367,
          7.092389582441084,
          8.82555415772563,
          6.35610387207664,
          7.6285128374669,
          6.873401703356828,
          6.5992024612739,
          8.088907337371719,
          6.745096933619751,
          7.216443704184928,
          8.182467982107394,
          9.919526897311084,
          8.03528322226405,
          11.224246812300379,
          7.560494128396618,
          7.717849804383218,
          7.512979024429666,
          6.435187251155145,
          9.26345788957089,
          10.434446565003899,
          6.308454527085635,
          6.257427286339622,
          6.291088508024751,
          6.598342870008224,
          6.814051747156195,
          6.753901780220022,
          7.393480660521504,
          7.1442766229833055,
          7.225592527649478,
          6.340627778061598,
          6.851924008252931,
          6.202234038821702,
          6.401570281469089,
          6.178459942619227,
          6.826164722033381,
          8.307293625171019,
          7.3665797420890655,
          7.634286833629571,
          6.595087166558166,
          7.844073806415167,
          10.785265593046997,
          7.419417884367924,
          7.278401706764777,
          8.233302602085647,
          8.562337197696674,
          6.193350448955884,
          6.559729394911204,
          6.547749232994367,
          6.636502070325433,
          7.428713955554121,
          6.647113576014698,
          7.178354064733249,
          6.993859530291227,
          7.047743242813736,
          6.714584499685756,
          7.123330089301294,
          6.565985530429924,
          6.560142630574991,
          6.749522021313093,
          7.04373863191312
         ],
         "yaxis": "y7"
        },
        {
         "marker": {
          "color": [
           1,
           2,
           3,
           4,
           5,
           6,
           7,
           8,
           9,
           10,
           11,
           12,
           13,
           14,
           15,
           16,
           17,
           18,
           19,
           20,
           21,
           22,
           23,
           24,
           25,
           26,
           27,
           28,
           29,
           30,
           31,
           32,
           33,
           34,
           35,
           36,
           37,
           38,
           39,
           40,
           41,
           42,
           43,
           44,
           45,
           46,
           47,
           48,
           49,
           50,
           51,
           52,
           53,
           54,
           55,
           56,
           57,
           58,
           59,
           60,
           61,
           62,
           63,
           64,
           65,
           66,
           67,
           68,
           69,
           70,
           71,
           72,
           73,
           74,
           75,
           76,
           77,
           78,
           79,
           80,
           81,
           82,
           83,
           84,
           85,
           86,
           87,
           88,
           89,
           90,
           91,
           92,
           93,
           94,
           95,
           96,
           97,
           98,
           99,
           100
          ],
          "colorbar": {
           "title": {
            "text": "Trial"
           },
           "x": 1,
           "xpad": 40
          },
          "colorscale": [
           [
            0,
            "rgb(247,251,255)"
           ],
           [
            0.125,
            "rgb(222,235,247)"
           ],
           [
            0.25,
            "rgb(198,219,239)"
           ],
           [
            0.375,
            "rgb(158,202,225)"
           ],
           [
            0.5,
            "rgb(107,174,214)"
           ],
           [
            0.625,
            "rgb(66,146,198)"
           ],
           [
            0.75,
            "rgb(33,113,181)"
           ],
           [
            0.875,
            "rgb(8,81,156)"
           ],
           [
            1,
            "rgb(8,48,107)"
           ]
          ],
          "line": {
           "color": "Grey",
           "width": 0.5
          },
          "showscale": false
         },
         "mode": "markers",
         "name": "Feasible Trial",
         "showlegend": false,
         "type": "scatter",
         "x": [
          500,
          800,
          300,
          400,
          800,
          800,
          700,
          550,
          500,
          550,
          200,
          650,
          650,
          600,
          400,
          700,
          400,
          600,
          700,
          450,
          600,
          700,
          650,
          750,
          550,
          650,
          350,
          750,
          400,
          750,
          500,
          250,
          600,
          400,
          800,
          300,
          200,
          350,
          300,
          500,
          200,
          400,
          300,
          500,
          500,
          600,
          450,
          300,
          350,
          550,
          350,
          250,
          800,
          300,
          650,
          600,
          550,
          350,
          550,
          550,
          400,
          350,
          400,
          200,
          450,
          450,
          200,
          700,
          450,
          300,
          350,
          400,
          400,
          500,
          450,
          600,
          450,
          700,
          550,
          700,
          700,
          800,
          550,
          800,
          350,
          200,
          200,
          200,
          200,
          300,
          300,
          400,
          250,
          400,
          200,
          300,
          200,
          250,
          250,
          350
         ],
         "xaxis": "x8",
         "y": [
          6.957898978512648,
          7.276746815971374,
          7.2288527844551185,
          7.795514994239173,
          6.968521287222624,
          6.82668645973624,
          7.174188481588983,
          6.536782528539428,
          7.888022343884776,
          6.935519024456719,
          6.990153876517596,
          6.444882228880412,
          6.839004235649313,
          9.474516694204773,
          7.103340440591663,
          7.500622278237583,
          7.722170399554233,
          7.271393539255845,
          6.673008603896008,
          7.998883682027251,
          7.520906908646225,
          6.877492296374584,
          7.1073836331044875,
          7.699331051646356,
          7.045895947206789,
          7.078776885019519,
          8.033277884364383,
          7.378663039743503,
          6.600043257061181,
          6.719825038031152,
          6.752041828534341,
          7.359710749591258,
          8.555007714832973,
          6.874192062897032,
          7.295155092041878,
          6.379202640067778,
          6.791961908335833,
          6.369689029667095,
          6.300511208775449,
          6.873927251670322,
          7.669741464081367,
          7.092389582441084,
          8.82555415772563,
          6.35610387207664,
          7.6285128374669,
          6.873401703356828,
          6.5992024612739,
          8.088907337371719,
          6.745096933619751,
          7.216443704184928,
          8.182467982107394,
          9.919526897311084,
          8.03528322226405,
          11.224246812300379,
          7.560494128396618,
          7.717849804383218,
          7.512979024429666,
          6.435187251155145,
          9.26345788957089,
          10.434446565003899,
          6.308454527085635,
          6.257427286339622,
          6.291088508024751,
          6.598342870008224,
          6.814051747156195,
          6.753901780220022,
          7.393480660521504,
          7.1442766229833055,
          7.225592527649478,
          6.340627778061598,
          6.851924008252931,
          6.202234038821702,
          6.401570281469089,
          6.178459942619227,
          6.826164722033381,
          8.307293625171019,
          7.3665797420890655,
          7.634286833629571,
          6.595087166558166,
          7.844073806415167,
          10.785265593046997,
          7.419417884367924,
          7.278401706764777,
          8.233302602085647,
          8.562337197696674,
          6.193350448955884,
          6.559729394911204,
          6.547749232994367,
          6.636502070325433,
          7.428713955554121,
          6.647113576014698,
          7.178354064733249,
          6.993859530291227,
          7.047743242813736,
          6.714584499685756,
          7.123330089301294,
          6.565985530429924,
          6.560142630574991,
          6.749522021313093,
          7.04373863191312
         ],
         "yaxis": "y8"
        }
       ],
       "layout": {
        "template": {
         "data": {
          "bar": [
           {
            "error_x": {
             "color": "#2a3f5f"
            },
            "error_y": {
             "color": "#2a3f5f"
            },
            "marker": {
             "line": {
              "color": "#E5ECF6",
              "width": 0.5
             },
             "pattern": {
              "fillmode": "overlay",
              "size": 10,
              "solidity": 0.2
             }
            },
            "type": "bar"
           }
          ],
          "barpolar": [
           {
            "marker": {
             "line": {
              "color": "#E5ECF6",
              "width": 0.5
             },
             "pattern": {
              "fillmode": "overlay",
              "size": 10,
              "solidity": 0.2
             }
            },
            "type": "barpolar"
           }
          ],
          "carpet": [
           {
            "aaxis": {
             "endlinecolor": "#2a3f5f",
             "gridcolor": "white",
             "linecolor": "white",
             "minorgridcolor": "white",
             "startlinecolor": "#2a3f5f"
            },
            "baxis": {
             "endlinecolor": "#2a3f5f",
             "gridcolor": "white",
             "linecolor": "white",
             "minorgridcolor": "white",
             "startlinecolor": "#2a3f5f"
            },
            "type": "carpet"
           }
          ],
          "choropleth": [
           {
            "colorbar": {
             "outlinewidth": 0,
             "ticks": ""
            },
            "type": "choropleth"
           }
          ],
          "contour": [
           {
            "colorbar": {
             "outlinewidth": 0,
             "ticks": ""
            },
            "colorscale": [
             [
              0,
              "#0d0887"
             ],
             [
              0.1111111111111111,
              "#46039f"
             ],
             [
              0.2222222222222222,
              "#7201a8"
             ],
             [
              0.3333333333333333,
              "#9c179e"
             ],
             [
              0.4444444444444444,
              "#bd3786"
             ],
             [
              0.5555555555555556,
              "#d8576b"
             ],
             [
              0.6666666666666666,
              "#ed7953"
             ],
             [
              0.7777777777777778,
              "#fb9f3a"
             ],
             [
              0.8888888888888888,
              "#fdca26"
             ],
             [
              1,
              "#f0f921"
             ]
            ],
            "type": "contour"
           }
          ],
          "contourcarpet": [
           {
            "colorbar": {
             "outlinewidth": 0,
             "ticks": ""
            },
            "type": "contourcarpet"
           }
          ],
          "heatmap": [
           {
            "colorbar": {
             "outlinewidth": 0,
             "ticks": ""
            },
            "colorscale": [
             [
              0,
              "#0d0887"
             ],
             [
              0.1111111111111111,
              "#46039f"
             ],
             [
              0.2222222222222222,
              "#7201a8"
             ],
             [
              0.3333333333333333,
              "#9c179e"
             ],
             [
              0.4444444444444444,
              "#bd3786"
             ],
             [
              0.5555555555555556,
              "#d8576b"
             ],
             [
              0.6666666666666666,
              "#ed7953"
             ],
             [
              0.7777777777777778,
              "#fb9f3a"
             ],
             [
              0.8888888888888888,
              "#fdca26"
             ],
             [
              1,
              "#f0f921"
             ]
            ],
            "type": "heatmap"
           }
          ],
          "heatmapgl": [
           {
            "colorbar": {
             "outlinewidth": 0,
             "ticks": ""
            },
            "colorscale": [
             [
              0,
              "#0d0887"
             ],
             [
              0.1111111111111111,
              "#46039f"
             ],
             [
              0.2222222222222222,
              "#7201a8"
             ],
             [
              0.3333333333333333,
              "#9c179e"
             ],
             [
              0.4444444444444444,
              "#bd3786"
             ],
             [
              0.5555555555555556,
              "#d8576b"
             ],
             [
              0.6666666666666666,
              "#ed7953"
             ],
             [
              0.7777777777777778,
              "#fb9f3a"
             ],
             [
              0.8888888888888888,
              "#fdca26"
             ],
             [
              1,
              "#f0f921"
             ]
            ],
            "type": "heatmapgl"
           }
          ],
          "histogram": [
           {
            "marker": {
             "pattern": {
              "fillmode": "overlay",
              "size": 10,
              "solidity": 0.2
             }
            },
            "type": "histogram"
           }
          ],
          "histogram2d": [
           {
            "colorbar": {
             "outlinewidth": 0,
             "ticks": ""
            },
            "colorscale": [
             [
              0,
              "#0d0887"
             ],
             [
              0.1111111111111111,
              "#46039f"
             ],
             [
              0.2222222222222222,
              "#7201a8"
             ],
             [
              0.3333333333333333,
              "#9c179e"
             ],
             [
              0.4444444444444444,
              "#bd3786"
             ],
             [
              0.5555555555555556,
              "#d8576b"
             ],
             [
              0.6666666666666666,
              "#ed7953"
             ],
             [
              0.7777777777777778,
              "#fb9f3a"
             ],
             [
              0.8888888888888888,
              "#fdca26"
             ],
             [
              1,
              "#f0f921"
             ]
            ],
            "type": "histogram2d"
           }
          ],
          "histogram2dcontour": [
           {
            "colorbar": {
             "outlinewidth": 0,
             "ticks": ""
            },
            "colorscale": [
             [
              0,
              "#0d0887"
             ],
             [
              0.1111111111111111,
              "#46039f"
             ],
             [
              0.2222222222222222,
              "#7201a8"
             ],
             [
              0.3333333333333333,
              "#9c179e"
             ],
             [
              0.4444444444444444,
              "#bd3786"
             ],
             [
              0.5555555555555556,
              "#d8576b"
             ],
             [
              0.6666666666666666,
              "#ed7953"
             ],
             [
              0.7777777777777778,
              "#fb9f3a"
             ],
             [
              0.8888888888888888,
              "#fdca26"
             ],
             [
              1,
              "#f0f921"
             ]
            ],
            "type": "histogram2dcontour"
           }
          ],
          "mesh3d": [
           {
            "colorbar": {
             "outlinewidth": 0,
             "ticks": ""
            },
            "type": "mesh3d"
           }
          ],
          "parcoords": [
           {
            "line": {
             "colorbar": {
              "outlinewidth": 0,
              "ticks": ""
             }
            },
            "type": "parcoords"
           }
          ],
          "pie": [
           {
            "automargin": true,
            "type": "pie"
           }
          ],
          "scatter": [
           {
            "fillpattern": {
             "fillmode": "overlay",
             "size": 10,
             "solidity": 0.2
            },
            "type": "scatter"
           }
          ],
          "scatter3d": [
           {
            "line": {
             "colorbar": {
              "outlinewidth": 0,
              "ticks": ""
             }
            },
            "marker": {
             "colorbar": {
              "outlinewidth": 0,
              "ticks": ""
             }
            },
            "type": "scatter3d"
           }
          ],
          "scattercarpet": [
           {
            "marker": {
             "colorbar": {
              "outlinewidth": 0,
              "ticks": ""
             }
            },
            "type": "scattercarpet"
           }
          ],
          "scattergeo": [
           {
            "marker": {
             "colorbar": {
              "outlinewidth": 0,
              "ticks": ""
             }
            },
            "type": "scattergeo"
           }
          ],
          "scattergl": [
           {
            "marker": {
             "colorbar": {
              "outlinewidth": 0,
              "ticks": ""
             }
            },
            "type": "scattergl"
           }
          ],
          "scattermapbox": [
           {
            "marker": {
             "colorbar": {
              "outlinewidth": 0,
              "ticks": ""
             }
            },
            "type": "scattermapbox"
           }
          ],
          "scatterpolar": [
           {
            "marker": {
             "colorbar": {
              "outlinewidth": 0,
              "ticks": ""
             }
            },
            "type": "scatterpolar"
           }
          ],
          "scatterpolargl": [
           {
            "marker": {
             "colorbar": {
              "outlinewidth": 0,
              "ticks": ""
             }
            },
            "type": "scatterpolargl"
           }
          ],
          "scatterternary": [
           {
            "marker": {
             "colorbar": {
              "outlinewidth": 0,
              "ticks": ""
             }
            },
            "type": "scatterternary"
           }
          ],
          "surface": [
           {
            "colorbar": {
             "outlinewidth": 0,
             "ticks": ""
            },
            "colorscale": [
             [
              0,
              "#0d0887"
             ],
             [
              0.1111111111111111,
              "#46039f"
             ],
             [
              0.2222222222222222,
              "#7201a8"
             ],
             [
              0.3333333333333333,
              "#9c179e"
             ],
             [
              0.4444444444444444,
              "#bd3786"
             ],
             [
              0.5555555555555556,
              "#d8576b"
             ],
             [
              0.6666666666666666,
              "#ed7953"
             ],
             [
              0.7777777777777778,
              "#fb9f3a"
             ],
             [
              0.8888888888888888,
              "#fdca26"
             ],
             [
              1,
              "#f0f921"
             ]
            ],
            "type": "surface"
           }
          ],
          "table": [
           {
            "cells": {
             "fill": {
              "color": "#EBF0F8"
             },
             "line": {
              "color": "white"
             }
            },
            "header": {
             "fill": {
              "color": "#C8D4E3"
             },
             "line": {
              "color": "white"
             }
            },
            "type": "table"
           }
          ]
         },
         "layout": {
          "annotationdefaults": {
           "arrowcolor": "#2a3f5f",
           "arrowhead": 0,
           "arrowwidth": 1
          },
          "autotypenumbers": "strict",
          "coloraxis": {
           "colorbar": {
            "outlinewidth": 0,
            "ticks": ""
           }
          },
          "colorscale": {
           "diverging": [
            [
             0,
             "#8e0152"
            ],
            [
             0.1,
             "#c51b7d"
            ],
            [
             0.2,
             "#de77ae"
            ],
            [
             0.3,
             "#f1b6da"
            ],
            [
             0.4,
             "#fde0ef"
            ],
            [
             0.5,
             "#f7f7f7"
            ],
            [
             0.6,
             "#e6f5d0"
            ],
            [
             0.7,
             "#b8e186"
            ],
            [
             0.8,
             "#7fbc41"
            ],
            [
             0.9,
             "#4d9221"
            ],
            [
             1,
             "#276419"
            ]
           ],
           "sequential": [
            [
             0,
             "#0d0887"
            ],
            [
             0.1111111111111111,
             "#46039f"
            ],
            [
             0.2222222222222222,
             "#7201a8"
            ],
            [
             0.3333333333333333,
             "#9c179e"
            ],
            [
             0.4444444444444444,
             "#bd3786"
            ],
            [
             0.5555555555555556,
             "#d8576b"
            ],
            [
             0.6666666666666666,
             "#ed7953"
            ],
            [
             0.7777777777777778,
             "#fb9f3a"
            ],
            [
             0.8888888888888888,
             "#fdca26"
            ],
            [
             1,
             "#f0f921"
            ]
           ],
           "sequentialminus": [
            [
             0,
             "#0d0887"
            ],
            [
             0.1111111111111111,
             "#46039f"
            ],
            [
             0.2222222222222222,
             "#7201a8"
            ],
            [
             0.3333333333333333,
             "#9c179e"
            ],
            [
             0.4444444444444444,
             "#bd3786"
            ],
            [
             0.5555555555555556,
             "#d8576b"
            ],
            [
             0.6666666666666666,
             "#ed7953"
            ],
            [
             0.7777777777777778,
             "#fb9f3a"
            ],
            [
             0.8888888888888888,
             "#fdca26"
            ],
            [
             1,
             "#f0f921"
            ]
           ]
          },
          "colorway": [
           "#636efa",
           "#EF553B",
           "#00cc96",
           "#ab63fa",
           "#FFA15A",
           "#19d3f3",
           "#FF6692",
           "#B6E880",
           "#FF97FF",
           "#FECB52"
          ],
          "font": {
           "color": "#2a3f5f"
          },
          "geo": {
           "bgcolor": "white",
           "lakecolor": "white",
           "landcolor": "#E5ECF6",
           "showlakes": true,
           "showland": true,
           "subunitcolor": "white"
          },
          "hoverlabel": {
           "align": "left"
          },
          "hovermode": "closest",
          "mapbox": {
           "style": "light"
          },
          "paper_bgcolor": "white",
          "plot_bgcolor": "#E5ECF6",
          "polar": {
           "angularaxis": {
            "gridcolor": "white",
            "linecolor": "white",
            "ticks": ""
           },
           "bgcolor": "#E5ECF6",
           "radialaxis": {
            "gridcolor": "white",
            "linecolor": "white",
            "ticks": ""
           }
          },
          "scene": {
           "xaxis": {
            "backgroundcolor": "#E5ECF6",
            "gridcolor": "white",
            "gridwidth": 2,
            "linecolor": "white",
            "showbackground": true,
            "ticks": "",
            "zerolinecolor": "white"
           },
           "yaxis": {
            "backgroundcolor": "#E5ECF6",
            "gridcolor": "white",
            "gridwidth": 2,
            "linecolor": "white",
            "showbackground": true,
            "ticks": "",
            "zerolinecolor": "white"
           },
           "zaxis": {
            "backgroundcolor": "#E5ECF6",
            "gridcolor": "white",
            "gridwidth": 2,
            "linecolor": "white",
            "showbackground": true,
            "ticks": "",
            "zerolinecolor": "white"
           }
          },
          "shapedefaults": {
           "line": {
            "color": "#2a3f5f"
           }
          },
          "ternary": {
           "aaxis": {
            "gridcolor": "white",
            "linecolor": "white",
            "ticks": ""
           },
           "baxis": {
            "gridcolor": "white",
            "linecolor": "white",
            "ticks": ""
           },
           "bgcolor": "#E5ECF6",
           "caxis": {
            "gridcolor": "white",
            "linecolor": "white",
            "ticks": ""
           }
          },
          "title": {
           "x": 0.05
          },
          "xaxis": {
           "automargin": true,
           "gridcolor": "white",
           "linecolor": "white",
           "ticks": "",
           "title": {
            "standoff": 15
           },
           "zerolinecolor": "white",
           "zerolinewidth": 2
          },
          "yaxis": {
           "automargin": true,
           "gridcolor": "white",
           "linecolor": "white",
           "ticks": "",
           "title": {
            "standoff": 15
           },
           "zerolinecolor": "white",
           "zerolinewidth": 2
          }
         }
        },
        "title": {
         "text": "Slice Plot"
        },
        "width": 2400,
        "xaxis": {
         "anchor": "y",
         "domain": [
          0,
          0.103125
         ],
         "title": {
          "text": "batch_size"
         }
        },
        "xaxis2": {
         "anchor": "y2",
         "domain": [
          0.128125,
          0.23124999999999998
         ],
         "title": {
          "text": "dropout_rate"
         }
        },
        "xaxis3": {
         "anchor": "y3",
         "domain": [
          0.25625,
          0.359375
         ],
         "title": {
          "text": "epoch_num"
         }
        },
        "xaxis4": {
         "anchor": "y4",
         "domain": [
          0.38437499999999997,
          0.48749999999999993
         ],
         "title": {
          "text": "learning_decay"
         }
        },
        "xaxis5": {
         "anchor": "y5",
         "domain": [
          0.5125,
          0.615625
         ],
         "title": {
          "text": "learning_rate"
         },
         "type": "log"
        },
        "xaxis6": {
         "anchor": "y6",
         "domain": [
          0.640625,
          0.74375
         ],
         "title": {
          "text": "num_layers"
         }
        },
        "xaxis7": {
         "anchor": "y7",
         "categoryarray": [
          true,
          false
         ],
         "categoryorder": "array",
         "domain": [
          0.76875,
          0.8718750000000001
         ],
         "title": {
          "text": "peak_variable"
         },
         "type": "category"
        },
        "xaxis8": {
         "anchor": "y8",
         "domain": [
          0.8968750000000001,
          1
         ],
         "title": {
          "text": "size_factor"
         }
        },
        "yaxis": {
         "anchor": "x",
         "domain": [
          0,
          1
         ],
         "title": {
          "text": "Objective Value"
         }
        },
        "yaxis2": {
         "anchor": "x2",
         "domain": [
          0,
          1
         ],
         "matches": "y",
         "showticklabels": false
        },
        "yaxis3": {
         "anchor": "x3",
         "domain": [
          0,
          1
         ],
         "matches": "y",
         "showticklabels": false
        },
        "yaxis4": {
         "anchor": "x4",
         "domain": [
          0,
          1
         ],
         "matches": "y",
         "showticklabels": false
        },
        "yaxis5": {
         "anchor": "x5",
         "domain": [
          0,
          1
         ],
         "matches": "y",
         "showticklabels": false
        },
        "yaxis6": {
         "anchor": "x6",
         "domain": [
          0,
          1
         ],
         "matches": "y",
         "showticklabels": false
        },
        "yaxis7": {
         "anchor": "x7",
         "domain": [
          0,
          1
         ],
         "matches": "y",
         "showticklabels": false
        },
        "yaxis8": {
         "anchor": "x8",
         "domain": [
          0,
          1
         ],
         "matches": "y",
         "showticklabels": false
        }
       }
      },
      "text/html": [
       "<div>                            <div id=\"dd865eba-1f36-46c6-a3e7-14309f7606d0\" class=\"plotly-graph-div\" style=\"height:525px; width:2400px;\"></div>            <script type=\"text/javascript\">                require([\"plotly\"], function(Plotly) {                    window.PLOTLYENV=window.PLOTLYENV || {};                                    if (document.getElementById(\"dd865eba-1f36-46c6-a3e7-14309f7606d0\")) {                    Plotly.newPlot(                        \"dd865eba-1f36-46c6-a3e7-14309f7606d0\",                        [{\"marker\":{\"color\":[1,2,3,4,5,6,7,8,9,10,11,12,13,14,15,16,17,18,19,20,21,22,23,24,25,26,27,28,29,30,31,32,33,34,35,36,37,38,39,40,41,42,43,44,45,46,47,48,49,50,51,52,53,54,55,56,57,58,59,60,61,62,63,64,65,66,67,68,69,70,71,72,73,74,75,76,77,78,79,80,81,82,83,84,85,86,87,88,89,90,91,92,93,94,95,96,97,98,99,100],\"colorbar\":{\"title\":{\"text\":\"Trial\"},\"x\":1.0,\"xpad\":40},\"colorscale\":[[0.0,\"rgb(247,251,255)\"],[0.125,\"rgb(222,235,247)\"],[0.25,\"rgb(198,219,239)\"],[0.375,\"rgb(158,202,225)\"],[0.5,\"rgb(107,174,214)\"],[0.625,\"rgb(66,146,198)\"],[0.75,\"rgb(33,113,181)\"],[0.875,\"rgb(8,81,156)\"],[1.0,\"rgb(8,48,107)\"]],\"line\":{\"color\":\"Grey\",\"width\":0.5},\"showscale\":true},\"mode\":\"markers\",\"name\":\"Feasible Trial\",\"showlegend\":false,\"x\":[12,8,12,12,12,8,8,16,12,16,20,20,20,16,20,16,20,16,20,16,20,20,20,16,20,8,20,12,8,16,16,16,12,12,16,8,8,8,8,8,12,20,8,12,12,12,8,8,12,8,16,16,12,8,8,8,20,20,12,16,20,20,20,20,16,20,20,12,16,20,16,20,20,20,20,12,16,12,8,20,12,8,16,8,8,20,20,20,20,16,20,16,20,20,16,20,20,20,16,20],\"y\":[6.957898978512648,7.276746815971374,7.2288527844551185,7.795514994239173,6.968521287222624,6.82668645973624,7.174188481588983,6.536782528539428,7.888022343884776,6.935519024456719,6.990153876517596,6.444882228880412,6.839004235649313,9.474516694204773,7.103340440591663,7.500622278237583,7.722170399554233,7.271393539255845,6.673008603896008,7.998883682027251,7.520906908646225,6.877492296374584,7.1073836331044875,7.699331051646356,7.045895947206789,7.078776885019519,8.033277884364383,7.378663039743503,6.600043257061181,6.719825038031152,6.752041828534341,7.359710749591258,8.555007714832973,6.874192062897032,7.295155092041878,6.379202640067778,6.791961908335833,6.369689029667095,6.300511208775449,6.873927251670322,7.669741464081367,7.092389582441084,8.82555415772563,6.35610387207664,7.6285128374669,6.873401703356828,6.5992024612739,8.088907337371719,6.745096933619751,7.216443704184928,8.182467982107394,9.919526897311084,8.03528322226405,11.224246812300379,7.560494128396618,7.717849804383218,7.512979024429666,6.435187251155145,9.26345788957089,10.434446565003899,6.308454527085635,6.257427286339622,6.291088508024751,6.598342870008224,6.814051747156195,6.753901780220022,7.393480660521504,7.1442766229833055,7.225592527649478,6.340627778061598,6.851924008252931,6.202234038821702,6.401570281469089,6.178459942619227,6.826164722033381,8.307293625171019,7.3665797420890655,7.634286833629571,6.595087166558166,7.844073806415167,10.785265593046997,7.419417884367924,7.278401706764777,8.233302602085647,8.562337197696674,6.193350448955884,6.559729394911204,6.547749232994367,6.636502070325433,7.428713955554121,6.647113576014698,7.178354064733249,6.993859530291227,7.047743242813736,6.714584499685756,7.123330089301294,6.565985530429924,6.560142630574991,6.749522021313093,7.04373863191312],\"type\":\"scatter\",\"xaxis\":\"x\",\"yaxis\":\"y\"},{\"marker\":{\"color\":[1,2,3,4,5,6,7,8,9,10,11,12,13,14,15,16,17,18,19,20,21,22,23,24,25,26,27,28,29,30,31,32,33,34,35,36,37,38,39,40,41,42,43,44,45,46,47,48,49,50,51,52,53,54,55,56,57,58,59,60,61,62,63,64,65,66,67,68,69,70,71,72,73,74,75,76,77,78,79,80,81,82,83,84,85,86,87,88,89,90,91,92,93,94,95,96,97,98,99,100],\"colorbar\":{\"title\":{\"text\":\"Trial\"},\"x\":1.0,\"xpad\":40},\"colorscale\":[[0.0,\"rgb(247,251,255)\"],[0.125,\"rgb(222,235,247)\"],[0.25,\"rgb(198,219,239)\"],[0.375,\"rgb(158,202,225)\"],[0.5,\"rgb(107,174,214)\"],[0.625,\"rgb(66,146,198)\"],[0.75,\"rgb(33,113,181)\"],[0.875,\"rgb(8,81,156)\"],[1.0,\"rgb(8,48,107)\"]],\"line\":{\"color\":\"Grey\",\"width\":0.5},\"showscale\":false},\"mode\":\"markers\",\"name\":\"Feasible Trial\",\"showlegend\":false,\"x\":[0.23615111496391447,0.2891573239136224,0.3176253834277236,0.3356964595483646,0.1020641464524584,0.259152632991716,0.2515314450411592,0.3731084671409174,0.28058333157128224,0.3988722897651834,0.39816805411375406,0.17916544921870048,0.16391359524316362,0.19112575473755652,0.18500852469354168,0.12804896689597445,0.21402316716824762,0.35667292496781566,0.36302968869234087,0.14742631236222076,0.21478230500557854,0.3498713264522409,0.3719440138132574,0.3118061206109499,0.36469465568102183,0.2935424722440866,0.14138636415941508,0.3616202549836204,0.31795017237008827,0.13894577853276693,0.1533082800017325,0.34998705079472947,0.21225296182428016,0.2215982874409858,0.2910561293025945,0.38459894357325564,0.39985659142966284,0.3213060805116477,0.3997276872609079,0.34219922249991963,0.25379332182239356,0.31012818571569845,0.26536226238468696,0.3638518772315387,0.37335608837483014,0.39765369011108553,0.33454778463196416,0.36428683849098253,0.326660603648381,0.2807320354368795,0.18467229586734116,0.14898159862331017,0.28298785435978807,0.20640123212167807,0.26896152795577144,0.22632489094321626,0.10054413763618825,0.1022243476941711,0.33316484821293,0.11419485453638016,0.39414510214742376,0.39711457174055187,0.38274744113197395,0.3862124075669555,0.34256795200510287,0.33828959135127074,0.3050580081233898,0.3637069697499434,0.3969280944588769,0.31921988693628567,0.3637813437130781,0.3961410306531042,0.36480412724232575,0.3649088186873377,0.29789286237846724,0.13069672411079752,0.2540349223823776,0.11463790530130966,0.3375019620918142,0.39040750183340145,0.29393265440723565,0.3424677190568082,0.3267406127604696,0.11692602030567509,0.14431507344506928,0.20608540744705267,0.1986977247908181,0.19283858904162599,0.201125471193324,0.18819037154315127,0.24689359494507546,0.1678690625783234,0.2275075654811488,0.2747322838237312,0.16585300890347188,0.23139291743581755,0.2050367403649727,0.17309232597042745,0.21123325322048425,0.1503823795851436],\"y\":[6.957898978512648,7.276746815971374,7.2288527844551185,7.795514994239173,6.968521287222624,6.82668645973624,7.174188481588983,6.536782528539428,7.888022343884776,6.935519024456719,6.990153876517596,6.444882228880412,6.839004235649313,9.474516694204773,7.103340440591663,7.500622278237583,7.722170399554233,7.271393539255845,6.673008603896008,7.998883682027251,7.520906908646225,6.877492296374584,7.1073836331044875,7.699331051646356,7.045895947206789,7.078776885019519,8.033277884364383,7.378663039743503,6.600043257061181,6.719825038031152,6.752041828534341,7.359710749591258,8.555007714832973,6.874192062897032,7.295155092041878,6.379202640067778,6.791961908335833,6.369689029667095,6.300511208775449,6.873927251670322,7.669741464081367,7.092389582441084,8.82555415772563,6.35610387207664,7.6285128374669,6.873401703356828,6.5992024612739,8.088907337371719,6.745096933619751,7.216443704184928,8.182467982107394,9.919526897311084,8.03528322226405,11.224246812300379,7.560494128396618,7.717849804383218,7.512979024429666,6.435187251155145,9.26345788957089,10.434446565003899,6.308454527085635,6.257427286339622,6.291088508024751,6.598342870008224,6.814051747156195,6.753901780220022,7.393480660521504,7.1442766229833055,7.225592527649478,6.340627778061598,6.851924008252931,6.202234038821702,6.401570281469089,6.178459942619227,6.826164722033381,8.307293625171019,7.3665797420890655,7.634286833629571,6.595087166558166,7.844073806415167,10.785265593046997,7.419417884367924,7.278401706764777,8.233302602085647,8.562337197696674,6.193350448955884,6.559729394911204,6.547749232994367,6.636502070325433,7.428713955554121,6.647113576014698,7.178354064733249,6.993859530291227,7.047743242813736,6.714584499685756,7.123330089301294,6.565985530429924,6.560142630574991,6.749522021313093,7.04373863191312],\"type\":\"scatter\",\"xaxis\":\"x2\",\"yaxis\":\"y2\"},{\"marker\":{\"color\":[1,2,3,4,5,6,7,8,9,10,11,12,13,14,15,16,17,18,19,20,21,22,23,24,25,26,27,28,29,30,31,32,33,34,35,36,37,38,39,40,41,42,43,44,45,46,47,48,49,50,51,52,53,54,55,56,57,58,59,60,61,62,63,64,65,66,67,68,69,70,71,72,73,74,75,76,77,78,79,80,81,82,83,84,85,86,87,88,89,90,91,92,93,94,95,96,97,98,99,100],\"colorbar\":{\"title\":{\"text\":\"Trial\"},\"x\":1.0,\"xpad\":40},\"colorscale\":[[0.0,\"rgb(247,251,255)\"],[0.125,\"rgb(222,235,247)\"],[0.25,\"rgb(198,219,239)\"],[0.375,\"rgb(158,202,225)\"],[0.5,\"rgb(107,174,214)\"],[0.625,\"rgb(66,146,198)\"],[0.75,\"rgb(33,113,181)\"],[0.875,\"rgb(8,81,156)\"],[1.0,\"rgb(8,48,107)\"]],\"line\":{\"color\":\"Grey\",\"width\":0.5},\"showscale\":false},\"mode\":\"markers\",\"name\":\"Feasible Trial\",\"showlegend\":false,\"x\":[1500,1500,1000,1500,1500,1500,500,1000,1000,1000,500,1000,1000,500,1000,1000,500,1000,1000,500,1000,1000,1000,1000,1000,1500,500,1000,1500,1500,1500,1500,500,1500,1000,1000,1000,1000,1000,500,1000,1000,500,1000,500,1000,1000,1000,1000,1000,500,500,1500,500,1000,1000,1000,1500,500,500,1500,1500,1500,1500,1500,1500,1000,1500,1000,1500,1500,1500,1500,1000,1000,500,1000,1000,1500,500,500,1500,1500,1000,1000,1500,1500,1500,1500,1500,1500,1000,1500,1500,1000,1500,1500,1500,1500,1000],\"y\":[6.957898978512648,7.276746815971374,7.2288527844551185,7.795514994239173,6.968521287222624,6.82668645973624,7.174188481588983,6.536782528539428,7.888022343884776,6.935519024456719,6.990153876517596,6.444882228880412,6.839004235649313,9.474516694204773,7.103340440591663,7.500622278237583,7.722170399554233,7.271393539255845,6.673008603896008,7.998883682027251,7.520906908646225,6.877492296374584,7.1073836331044875,7.699331051646356,7.045895947206789,7.078776885019519,8.033277884364383,7.378663039743503,6.600043257061181,6.719825038031152,6.752041828534341,7.359710749591258,8.555007714832973,6.874192062897032,7.295155092041878,6.379202640067778,6.791961908335833,6.369689029667095,6.300511208775449,6.873927251670322,7.669741464081367,7.092389582441084,8.82555415772563,6.35610387207664,7.6285128374669,6.873401703356828,6.5992024612739,8.088907337371719,6.745096933619751,7.216443704184928,8.182467982107394,9.919526897311084,8.03528322226405,11.224246812300379,7.560494128396618,7.717849804383218,7.512979024429666,6.435187251155145,9.26345788957089,10.434446565003899,6.308454527085635,6.257427286339622,6.291088508024751,6.598342870008224,6.814051747156195,6.753901780220022,7.393480660521504,7.1442766229833055,7.225592527649478,6.340627778061598,6.851924008252931,6.202234038821702,6.401570281469089,6.178459942619227,6.826164722033381,8.307293625171019,7.3665797420890655,7.634286833629571,6.595087166558166,7.844073806415167,10.785265593046997,7.419417884367924,7.278401706764777,8.233302602085647,8.562337197696674,6.193350448955884,6.559729394911204,6.547749232994367,6.636502070325433,7.428713955554121,6.647113576014698,7.178354064733249,6.993859530291227,7.047743242813736,6.714584499685756,7.123330089301294,6.565985530429924,6.560142630574991,6.749522021313093,7.04373863191312],\"type\":\"scatter\",\"xaxis\":\"x3\",\"yaxis\":\"y3\"},{\"marker\":{\"color\":[1,2,3,4,5,6,7,8,9,10,11,12,13,14,15,16,17,18,19,20,21,22,23,24,25,26,27,28,29,30,31,32,33,34,35,36,37,38,39,40,41,42,43,44,45,46,47,48,49,50,51,52,53,54,55,56,57,58,59,60,61,62,63,64,65,66,67,68,69,70,71,72,73,74,75,76,77,78,79,80,81,82,83,84,85,86,87,88,89,90,91,92,93,94,95,96,97,98,99,100],\"colorbar\":{\"title\":{\"text\":\"Trial\"},\"x\":1.0,\"xpad\":40},\"colorscale\":[[0.0,\"rgb(247,251,255)\"],[0.125,\"rgb(222,235,247)\"],[0.25,\"rgb(198,219,239)\"],[0.375,\"rgb(158,202,225)\"],[0.5,\"rgb(107,174,214)\"],[0.625,\"rgb(66,146,198)\"],[0.75,\"rgb(33,113,181)\"],[0.875,\"rgb(8,81,156)\"],[1.0,\"rgb(8,48,107)\"]],\"line\":{\"color\":\"Grey\",\"width\":0.5},\"showscale\":false},\"mode\":\"markers\",\"name\":\"Feasible Trial\",\"showlegend\":false,\"x\":[0.07300782169915367,0.03752706898294905,0.08488615694408977,0.08738527206526162,0.0501888143224203,0.07852037123370163,0.06048795021059208,0.03691996901701198,0.08028522739183151,0.07073563819702887,0.027791994755134858,0.09810009914348419,0.09610953635102665,0.05215561146600102,0.04126524592512725,0.09890753026524597,0.029271557323560286,0.06054745796449459,0.049192445257261255,0.09003106221605711,0.0670326529654956,0.044999442087571125,0.03483393260008065,0.05399341919836604,0.04420306814432922,0.05073867379721595,0.0992208518261718,0.08852780133490545,0.09390405213735875,0.09315586231350204,0.0908285912109052,0.08802630548107515,0.05484656778034225,0.06223301437556289,0.09022059036618074,0.02585361801737361,0.029527479763593524,0.026860009171214144,0.02879399141395258,0.03957024779467243,0.03954949662874806,0.07739448443522616,0.034763280899368226,0.0478753864009266,0.04692376912996185,0.06989319281032985,0.03308567511424615,0.042917214276831026,0.025743058227109553,0.05686166404722731,0.057343383668654456,0.05518484713931905,0.06700739258091953,0.0748877584316243,0.08545435294204867,0.08442868852436818,0.08195215715030182,0.05015455128094771,0.07279948243311155,0.03628747930169892,0.026911392740095054,0.031057080950317357,0.025284826119613198,0.025227503114928402,0.040510286953038,0.04048698934567538,0.03239048694198688,0.048557782491074564,0.04468637605047998,0.09410360066363538,0.03125248083100348,0.026025746959433875,0.033737682943868946,0.027187180982466676,0.0391148851158449,0.0875557459114385,0.0932275684202021,0.09885495272511066,0.07683940560847047,0.09933194177740529,0.05970539244533744,0.06283736015657512,0.0673141883914156,0.04218755601418611,0.04626018982000643,0.07893062119853911,0.08096918263623455,0.07921798466370668,0.07435893353767117,0.05437023696329636,0.071410335060767,0.0848432944789936,0.03150725153210779,0.08924352534183838,0.07947338679184955,0.06860225093888474,0.08046554134507192,0.08153502098295212,0.09075316944959388,0.07153490804770565],\"y\":[6.957898978512648,7.276746815971374,7.2288527844551185,7.795514994239173,6.968521287222624,6.82668645973624,7.174188481588983,6.536782528539428,7.888022343884776,6.935519024456719,6.990153876517596,6.444882228880412,6.839004235649313,9.474516694204773,7.103340440591663,7.500622278237583,7.722170399554233,7.271393539255845,6.673008603896008,7.998883682027251,7.520906908646225,6.877492296374584,7.1073836331044875,7.699331051646356,7.045895947206789,7.078776885019519,8.033277884364383,7.378663039743503,6.600043257061181,6.719825038031152,6.752041828534341,7.359710749591258,8.555007714832973,6.874192062897032,7.295155092041878,6.379202640067778,6.791961908335833,6.369689029667095,6.300511208775449,6.873927251670322,7.669741464081367,7.092389582441084,8.82555415772563,6.35610387207664,7.6285128374669,6.873401703356828,6.5992024612739,8.088907337371719,6.745096933619751,7.216443704184928,8.182467982107394,9.919526897311084,8.03528322226405,11.224246812300379,7.560494128396618,7.717849804383218,7.512979024429666,6.435187251155145,9.26345788957089,10.434446565003899,6.308454527085635,6.257427286339622,6.291088508024751,6.598342870008224,6.814051747156195,6.753901780220022,7.393480660521504,7.1442766229833055,7.225592527649478,6.340627778061598,6.851924008252931,6.202234038821702,6.401570281469089,6.178459942619227,6.826164722033381,8.307293625171019,7.3665797420890655,7.634286833629571,6.595087166558166,7.844073806415167,10.785265593046997,7.419417884367924,7.278401706764777,8.233302602085647,8.562337197696674,6.193350448955884,6.559729394911204,6.547749232994367,6.636502070325433,7.428713955554121,6.647113576014698,7.178354064733249,6.993859530291227,7.047743242813736,6.714584499685756,7.123330089301294,6.565985530429924,6.560142630574991,6.749522021313093,7.04373863191312],\"type\":\"scatter\",\"xaxis\":\"x4\",\"yaxis\":\"y4\"},{\"marker\":{\"color\":[1,2,3,4,5,6,7,8,9,10,11,12,13,14,15,16,17,18,19,20,21,22,23,24,25,26,27,28,29,30,31,32,33,34,35,36,37,38,39,40,41,42,43,44,45,46,47,48,49,50,51,52,53,54,55,56,57,58,59,60,61,62,63,64,65,66,67,68,69,70,71,72,73,74,75,76,77,78,79,80,81,82,83,84,85,86,87,88,89,90,91,92,93,94,95,96,97,98,99,100],\"colorbar\":{\"title\":{\"text\":\"Trial\"},\"x\":1.0,\"xpad\":40},\"colorscale\":[[0.0,\"rgb(247,251,255)\"],[0.125,\"rgb(222,235,247)\"],[0.25,\"rgb(198,219,239)\"],[0.375,\"rgb(158,202,225)\"],[0.5,\"rgb(107,174,214)\"],[0.625,\"rgb(66,146,198)\"],[0.75,\"rgb(33,113,181)\"],[0.875,\"rgb(8,81,156)\"],[1.0,\"rgb(8,48,107)\"]],\"line\":{\"color\":\"Grey\",\"width\":0.5},\"showscale\":false},\"mode\":\"markers\",\"name\":\"Feasible Trial\",\"showlegend\":false,\"x\":[0.00017971232284571726,0.00016254466984661178,0.0006450516218984084,0.00010718349723524421,0.0008613812390355123,0.00047088607129983437,0.0008868209555299067,0.0009545111108943343,0.00014749759490956813,0.000968006506824039,0.00034363951626617734,0.00040480514575048774,0.000302355583800899,5.985725021252354e-05,0.0005326080680148682,0.00030792996521173907,0.0004195774692342898,0.0006542265243183339,0.00023886039063369707,0.0007021915875820893,9.616524271757531e-05,0.00022683556672406264,0.0002327612634072846,0.00034820310202002004,0.0002487431093197935,0.00045154454748000736,0.00019724337468551273,5.365174931407479e-05,0.00048762670335873596,0.0002685557901301477,0.0005778609665769231,0.0001164471289500507,5.978695418897332e-05,0.0006710909437033693,0.00031216743816612564,0.0008453564390979558,0.0009530588081836868,0.0009826641728634298,0.0009288990906406564,0.0009262229232084394,0.00017385524341749763,0.0003350131942710733,0.00012669638366698963,0.0006786976679009823,0.00042516938540551895,0.0006623874499992068,0.0007507832376623951,0.0005809003562352317,0.0008733172384629105,0.0009905674023504556,0.00027418510846261647,0.00023898341069734572,6.544046291762128e-05,0.00013341503928212278,0.00012607441349910475,8.201211591776549e-05,0.00021600112763947894,0.000602287242564757,7.392956322224063e-05,0.00011868153317244059,0.0009330792355527887,0.000942376939053766,0.0009350048189918129,0.0009742506563236344,0.0005185417911719926,0.0004959291835050414,0.00037113642961060256,0.0007160179948206979,0.0003526508834537922,0.0007455200000896888,0.00043384593035680134,0.0008216482887176104,0.0007435402886496392,0.0009904117715878512,0.000635669156583551,0.00043737503057204445,0.00024476205317279444,0.0007801107773147865,0.0007171482907279352,9.802202568759417e-05,5.11038234070031e-05,0.00012792471584727224,0.0001839336340685864,0.00016251221366715612,0.00012145855744715282,0.0009801069585680308,0.0009500091327032593,0.0009260451275277747,0.0004702501316685228,0.0004701449319137751,0.0002985210860498971,0.0005902831127030014,0.0009317814467994808,0.00032699570553127724,0.0006131395038818742,6.43902848640182e-05,0.0008981627361583465,0.0009514018033926598,0.0006421870778693877,0.000989661479291807],\"y\":[6.957898978512648,7.276746815971374,7.2288527844551185,7.795514994239173,6.968521287222624,6.82668645973624,7.174188481588983,6.536782528539428,7.888022343884776,6.935519024456719,6.990153876517596,6.444882228880412,6.839004235649313,9.474516694204773,7.103340440591663,7.500622278237583,7.722170399554233,7.271393539255845,6.673008603896008,7.998883682027251,7.520906908646225,6.877492296374584,7.1073836331044875,7.699331051646356,7.045895947206789,7.078776885019519,8.033277884364383,7.378663039743503,6.600043257061181,6.719825038031152,6.752041828534341,7.359710749591258,8.555007714832973,6.874192062897032,7.295155092041878,6.379202640067778,6.791961908335833,6.369689029667095,6.300511208775449,6.873927251670322,7.669741464081367,7.092389582441084,8.82555415772563,6.35610387207664,7.6285128374669,6.873401703356828,6.5992024612739,8.088907337371719,6.745096933619751,7.216443704184928,8.182467982107394,9.919526897311084,8.03528322226405,11.224246812300379,7.560494128396618,7.717849804383218,7.512979024429666,6.435187251155145,9.26345788957089,10.434446565003899,6.308454527085635,6.257427286339622,6.291088508024751,6.598342870008224,6.814051747156195,6.753901780220022,7.393480660521504,7.1442766229833055,7.225592527649478,6.340627778061598,6.851924008252931,6.202234038821702,6.401570281469089,6.178459942619227,6.826164722033381,8.307293625171019,7.3665797420890655,7.634286833629571,6.595087166558166,7.844073806415167,10.785265593046997,7.419417884367924,7.278401706764777,8.233302602085647,8.562337197696674,6.193350448955884,6.559729394911204,6.547749232994367,6.636502070325433,7.428713955554121,6.647113576014698,7.178354064733249,6.993859530291227,7.047743242813736,6.714584499685756,7.123330089301294,6.565985530429924,6.560142630574991,6.749522021313093,7.04373863191312],\"type\":\"scatter\",\"xaxis\":\"x5\",\"yaxis\":\"y5\"},{\"marker\":{\"color\":[1,2,3,4,5,6,7,8,9,10,11,12,13,14,15,16,17,18,19,20,21,22,23,24,25,26,27,28,29,30,31,32,33,34,35,36,37,38,39,40,41,42,43,44,45,46,47,48,49,50,51,52,53,54,55,56,57,58,59,60,61,62,63,64,65,66,67,68,69,70,71,72,73,74,75,76,77,78,79,80,81,82,83,84,85,86,87,88,89,90,91,92,93,94,95,96,97,98,99,100],\"colorbar\":{\"title\":{\"text\":\"Trial\"},\"x\":1.0,\"xpad\":40},\"colorscale\":[[0.0,\"rgb(247,251,255)\"],[0.125,\"rgb(222,235,247)\"],[0.25,\"rgb(198,219,239)\"],[0.375,\"rgb(158,202,225)\"],[0.5,\"rgb(107,174,214)\"],[0.625,\"rgb(66,146,198)\"],[0.75,\"rgb(33,113,181)\"],[0.875,\"rgb(8,81,156)\"],[1.0,\"rgb(8,48,107)\"]],\"line\":{\"color\":\"Grey\",\"width\":0.5},\"showscale\":false},\"mode\":\"markers\",\"name\":\"Feasible Trial\",\"showlegend\":false,\"x\":[3,3,3,2,3,2,2,3,3,2,3,2,2,2,2,3,3,2,3,2,3,3,3,3,3,3,3,2,3,2,2,2,3,3,2,3,3,3,3,3,3,3,3,3,3,2,3,3,3,3,2,3,2,2,2,3,2,3,3,3,3,3,3,3,3,3,3,3,3,3,2,3,3,3,3,3,3,2,2,3,2,2,3,2,3,2,2,2,2,2,2,2,2,2,2,3,2,2,2,2],\"y\":[6.957898978512648,7.276746815971374,7.2288527844551185,7.795514994239173,6.968521287222624,6.82668645973624,7.174188481588983,6.536782528539428,7.888022343884776,6.935519024456719,6.990153876517596,6.444882228880412,6.839004235649313,9.474516694204773,7.103340440591663,7.500622278237583,7.722170399554233,7.271393539255845,6.673008603896008,7.998883682027251,7.520906908646225,6.877492296374584,7.1073836331044875,7.699331051646356,7.045895947206789,7.078776885019519,8.033277884364383,7.378663039743503,6.600043257061181,6.719825038031152,6.752041828534341,7.359710749591258,8.555007714832973,6.874192062897032,7.295155092041878,6.379202640067778,6.791961908335833,6.369689029667095,6.300511208775449,6.873927251670322,7.669741464081367,7.092389582441084,8.82555415772563,6.35610387207664,7.6285128374669,6.873401703356828,6.5992024612739,8.088907337371719,6.745096933619751,7.216443704184928,8.182467982107394,9.919526897311084,8.03528322226405,11.224246812300379,7.560494128396618,7.717849804383218,7.512979024429666,6.435187251155145,9.26345788957089,10.434446565003899,6.308454527085635,6.257427286339622,6.291088508024751,6.598342870008224,6.814051747156195,6.753901780220022,7.393480660521504,7.1442766229833055,7.225592527649478,6.340627778061598,6.851924008252931,6.202234038821702,6.401570281469089,6.178459942619227,6.826164722033381,8.307293625171019,7.3665797420890655,7.634286833629571,6.595087166558166,7.844073806415167,10.785265593046997,7.419417884367924,7.278401706764777,8.233302602085647,8.562337197696674,6.193350448955884,6.559729394911204,6.547749232994367,6.636502070325433,7.428713955554121,6.647113576014698,7.178354064733249,6.993859530291227,7.047743242813736,6.714584499685756,7.123330089301294,6.565985530429924,6.560142630574991,6.749522021313093,7.04373863191312],\"type\":\"scatter\",\"xaxis\":\"x6\",\"yaxis\":\"y6\"},{\"marker\":{\"color\":[1,2,3,4,5,6,7,8,9,10,11,12,13,14,15,16,17,18,19,20,21,22,23,24,25,26,27,28,29,30,31,32,33,34,35,36,37,38,39,40,41,42,43,44,45,46,47,48,49,50,51,52,53,54,55,56,57,58,59,60,61,62,63,64,65,66,67,68,69,70,71,72,73,74,75,76,77,78,79,80,81,82,83,84,85,86,87,88,89,90,91,92,93,94,95,96,97,98,99,100],\"colorbar\":{\"title\":{\"text\":\"Trial\"},\"x\":1.0,\"xpad\":40},\"colorscale\":[[0.0,\"rgb(247,251,255)\"],[0.125,\"rgb(222,235,247)\"],[0.25,\"rgb(198,219,239)\"],[0.375,\"rgb(158,202,225)\"],[0.5,\"rgb(107,174,214)\"],[0.625,\"rgb(66,146,198)\"],[0.75,\"rgb(33,113,181)\"],[0.875,\"rgb(8,81,156)\"],[1.0,\"rgb(8,48,107)\"]],\"line\":{\"color\":\"Grey\",\"width\":0.5},\"showscale\":false},\"mode\":\"markers\",\"name\":\"Feasible Trial\",\"showlegend\":false,\"x\":[true,false,true,false,true,false,true,false,true,false,false,false,false,false,false,false,false,false,false,false,false,false,false,false,false,false,false,true,true,false,false,false,false,false,true,true,true,true,true,true,true,true,true,true,true,true,true,true,true,true,false,true,true,true,false,true,false,false,true,false,false,false,false,false,false,false,false,false,false,false,false,false,false,false,false,false,true,false,false,false,true,true,false,false,false,true,true,true,true,true,true,true,true,true,true,true,true,true,true,true],\"y\":[6.957898978512648,7.276746815971374,7.2288527844551185,7.795514994239173,6.968521287222624,6.82668645973624,7.174188481588983,6.536782528539428,7.888022343884776,6.935519024456719,6.990153876517596,6.444882228880412,6.839004235649313,9.474516694204773,7.103340440591663,7.500622278237583,7.722170399554233,7.271393539255845,6.673008603896008,7.998883682027251,7.520906908646225,6.877492296374584,7.1073836331044875,7.699331051646356,7.045895947206789,7.078776885019519,8.033277884364383,7.378663039743503,6.600043257061181,6.719825038031152,6.752041828534341,7.359710749591258,8.555007714832973,6.874192062897032,7.295155092041878,6.379202640067778,6.791961908335833,6.369689029667095,6.300511208775449,6.873927251670322,7.669741464081367,7.092389582441084,8.82555415772563,6.35610387207664,7.6285128374669,6.873401703356828,6.5992024612739,8.088907337371719,6.745096933619751,7.216443704184928,8.182467982107394,9.919526897311084,8.03528322226405,11.224246812300379,7.560494128396618,7.717849804383218,7.512979024429666,6.435187251155145,9.26345788957089,10.434446565003899,6.308454527085635,6.257427286339622,6.291088508024751,6.598342870008224,6.814051747156195,6.753901780220022,7.393480660521504,7.1442766229833055,7.225592527649478,6.340627778061598,6.851924008252931,6.202234038821702,6.401570281469089,6.178459942619227,6.826164722033381,8.307293625171019,7.3665797420890655,7.634286833629571,6.595087166558166,7.844073806415167,10.785265593046997,7.419417884367924,7.278401706764777,8.233302602085647,8.562337197696674,6.193350448955884,6.559729394911204,6.547749232994367,6.636502070325433,7.428713955554121,6.647113576014698,7.178354064733249,6.993859530291227,7.047743242813736,6.714584499685756,7.123330089301294,6.565985530429924,6.560142630574991,6.749522021313093,7.04373863191312],\"type\":\"scatter\",\"xaxis\":\"x7\",\"yaxis\":\"y7\"},{\"marker\":{\"color\":[1,2,3,4,5,6,7,8,9,10,11,12,13,14,15,16,17,18,19,20,21,22,23,24,25,26,27,28,29,30,31,32,33,34,35,36,37,38,39,40,41,42,43,44,45,46,47,48,49,50,51,52,53,54,55,56,57,58,59,60,61,62,63,64,65,66,67,68,69,70,71,72,73,74,75,76,77,78,79,80,81,82,83,84,85,86,87,88,89,90,91,92,93,94,95,96,97,98,99,100],\"colorbar\":{\"title\":{\"text\":\"Trial\"},\"x\":1.0,\"xpad\":40},\"colorscale\":[[0.0,\"rgb(247,251,255)\"],[0.125,\"rgb(222,235,247)\"],[0.25,\"rgb(198,219,239)\"],[0.375,\"rgb(158,202,225)\"],[0.5,\"rgb(107,174,214)\"],[0.625,\"rgb(66,146,198)\"],[0.75,\"rgb(33,113,181)\"],[0.875,\"rgb(8,81,156)\"],[1.0,\"rgb(8,48,107)\"]],\"line\":{\"color\":\"Grey\",\"width\":0.5},\"showscale\":false},\"mode\":\"markers\",\"name\":\"Feasible Trial\",\"showlegend\":false,\"x\":[500,800,300,400,800,800,700,550,500,550,200,650,650,600,400,700,400,600,700,450,600,700,650,750,550,650,350,750,400,750,500,250,600,400,800,300,200,350,300,500,200,400,300,500,500,600,450,300,350,550,350,250,800,300,650,600,550,350,550,550,400,350,400,200,450,450,200,700,450,300,350,400,400,500,450,600,450,700,550,700,700,800,550,800,350,200,200,200,200,300,300,400,250,400,200,300,200,250,250,350],\"y\":[6.957898978512648,7.276746815971374,7.2288527844551185,7.795514994239173,6.968521287222624,6.82668645973624,7.174188481588983,6.536782528539428,7.888022343884776,6.935519024456719,6.990153876517596,6.444882228880412,6.839004235649313,9.474516694204773,7.103340440591663,7.500622278237583,7.722170399554233,7.271393539255845,6.673008603896008,7.998883682027251,7.520906908646225,6.877492296374584,7.1073836331044875,7.699331051646356,7.045895947206789,7.078776885019519,8.033277884364383,7.378663039743503,6.600043257061181,6.719825038031152,6.752041828534341,7.359710749591258,8.555007714832973,6.874192062897032,7.295155092041878,6.379202640067778,6.791961908335833,6.369689029667095,6.300511208775449,6.873927251670322,7.669741464081367,7.092389582441084,8.82555415772563,6.35610387207664,7.6285128374669,6.873401703356828,6.5992024612739,8.088907337371719,6.745096933619751,7.216443704184928,8.182467982107394,9.919526897311084,8.03528322226405,11.224246812300379,7.560494128396618,7.717849804383218,7.512979024429666,6.435187251155145,9.26345788957089,10.434446565003899,6.308454527085635,6.257427286339622,6.291088508024751,6.598342870008224,6.814051747156195,6.753901780220022,7.393480660521504,7.1442766229833055,7.225592527649478,6.340627778061598,6.851924008252931,6.202234038821702,6.401570281469089,6.178459942619227,6.826164722033381,8.307293625171019,7.3665797420890655,7.634286833629571,6.595087166558166,7.844073806415167,10.785265593046997,7.419417884367924,7.278401706764777,8.233302602085647,8.562337197696674,6.193350448955884,6.559729394911204,6.547749232994367,6.636502070325433,7.428713955554121,6.647113576014698,7.178354064733249,6.993859530291227,7.047743242813736,6.714584499685756,7.123330089301294,6.565985530429924,6.560142630574991,6.749522021313093,7.04373863191312],\"type\":\"scatter\",\"xaxis\":\"x8\",\"yaxis\":\"y8\"}],                        {\"template\":{\"data\":{\"histogram2dcontour\":[{\"type\":\"histogram2dcontour\",\"colorbar\":{\"outlinewidth\":0,\"ticks\":\"\"},\"colorscale\":[[0.0,\"#0d0887\"],[0.1111111111111111,\"#46039f\"],[0.2222222222222222,\"#7201a8\"],[0.3333333333333333,\"#9c179e\"],[0.4444444444444444,\"#bd3786\"],[0.5555555555555556,\"#d8576b\"],[0.6666666666666666,\"#ed7953\"],[0.7777777777777778,\"#fb9f3a\"],[0.8888888888888888,\"#fdca26\"],[1.0,\"#f0f921\"]]}],\"choropleth\":[{\"type\":\"choropleth\",\"colorbar\":{\"outlinewidth\":0,\"ticks\":\"\"}}],\"histogram2d\":[{\"type\":\"histogram2d\",\"colorbar\":{\"outlinewidth\":0,\"ticks\":\"\"},\"colorscale\":[[0.0,\"#0d0887\"],[0.1111111111111111,\"#46039f\"],[0.2222222222222222,\"#7201a8\"],[0.3333333333333333,\"#9c179e\"],[0.4444444444444444,\"#bd3786\"],[0.5555555555555556,\"#d8576b\"],[0.6666666666666666,\"#ed7953\"],[0.7777777777777778,\"#fb9f3a\"],[0.8888888888888888,\"#fdca26\"],[1.0,\"#f0f921\"]]}],\"heatmap\":[{\"type\":\"heatmap\",\"colorbar\":{\"outlinewidth\":0,\"ticks\":\"\"},\"colorscale\":[[0.0,\"#0d0887\"],[0.1111111111111111,\"#46039f\"],[0.2222222222222222,\"#7201a8\"],[0.3333333333333333,\"#9c179e\"],[0.4444444444444444,\"#bd3786\"],[0.5555555555555556,\"#d8576b\"],[0.6666666666666666,\"#ed7953\"],[0.7777777777777778,\"#fb9f3a\"],[0.8888888888888888,\"#fdca26\"],[1.0,\"#f0f921\"]]}],\"heatmapgl\":[{\"type\":\"heatmapgl\",\"colorbar\":{\"outlinewidth\":0,\"ticks\":\"\"},\"colorscale\":[[0.0,\"#0d0887\"],[0.1111111111111111,\"#46039f\"],[0.2222222222222222,\"#7201a8\"],[0.3333333333333333,\"#9c179e\"],[0.4444444444444444,\"#bd3786\"],[0.5555555555555556,\"#d8576b\"],[0.6666666666666666,\"#ed7953\"],[0.7777777777777778,\"#fb9f3a\"],[0.8888888888888888,\"#fdca26\"],[1.0,\"#f0f921\"]]}],\"contourcarpet\":[{\"type\":\"contourcarpet\",\"colorbar\":{\"outlinewidth\":0,\"ticks\":\"\"}}],\"contour\":[{\"type\":\"contour\",\"colorbar\":{\"outlinewidth\":0,\"ticks\":\"\"},\"colorscale\":[[0.0,\"#0d0887\"],[0.1111111111111111,\"#46039f\"],[0.2222222222222222,\"#7201a8\"],[0.3333333333333333,\"#9c179e\"],[0.4444444444444444,\"#bd3786\"],[0.5555555555555556,\"#d8576b\"],[0.6666666666666666,\"#ed7953\"],[0.7777777777777778,\"#fb9f3a\"],[0.8888888888888888,\"#fdca26\"],[1.0,\"#f0f921\"]]}],\"surface\":[{\"type\":\"surface\",\"colorbar\":{\"outlinewidth\":0,\"ticks\":\"\"},\"colorscale\":[[0.0,\"#0d0887\"],[0.1111111111111111,\"#46039f\"],[0.2222222222222222,\"#7201a8\"],[0.3333333333333333,\"#9c179e\"],[0.4444444444444444,\"#bd3786\"],[0.5555555555555556,\"#d8576b\"],[0.6666666666666666,\"#ed7953\"],[0.7777777777777778,\"#fb9f3a\"],[0.8888888888888888,\"#fdca26\"],[1.0,\"#f0f921\"]]}],\"mesh3d\":[{\"type\":\"mesh3d\",\"colorbar\":{\"outlinewidth\":0,\"ticks\":\"\"}}],\"scatter\":[{\"fillpattern\":{\"fillmode\":\"overlay\",\"size\":10,\"solidity\":0.2},\"type\":\"scatter\"}],\"parcoords\":[{\"type\":\"parcoords\",\"line\":{\"colorbar\":{\"outlinewidth\":0,\"ticks\":\"\"}}}],\"scatterpolargl\":[{\"type\":\"scatterpolargl\",\"marker\":{\"colorbar\":{\"outlinewidth\":0,\"ticks\":\"\"}}}],\"bar\":[{\"error_x\":{\"color\":\"#2a3f5f\"},\"error_y\":{\"color\":\"#2a3f5f\"},\"marker\":{\"line\":{\"color\":\"#E5ECF6\",\"width\":0.5},\"pattern\":{\"fillmode\":\"overlay\",\"size\":10,\"solidity\":0.2}},\"type\":\"bar\"}],\"scattergeo\":[{\"type\":\"scattergeo\",\"marker\":{\"colorbar\":{\"outlinewidth\":0,\"ticks\":\"\"}}}],\"scatterpolar\":[{\"type\":\"scatterpolar\",\"marker\":{\"colorbar\":{\"outlinewidth\":0,\"ticks\":\"\"}}}],\"histogram\":[{\"marker\":{\"pattern\":{\"fillmode\":\"overlay\",\"size\":10,\"solidity\":0.2}},\"type\":\"histogram\"}],\"scattergl\":[{\"type\":\"scattergl\",\"marker\":{\"colorbar\":{\"outlinewidth\":0,\"ticks\":\"\"}}}],\"scatter3d\":[{\"type\":\"scatter3d\",\"line\":{\"colorbar\":{\"outlinewidth\":0,\"ticks\":\"\"}},\"marker\":{\"colorbar\":{\"outlinewidth\":0,\"ticks\":\"\"}}}],\"scattermapbox\":[{\"type\":\"scattermapbox\",\"marker\":{\"colorbar\":{\"outlinewidth\":0,\"ticks\":\"\"}}}],\"scatterternary\":[{\"type\":\"scatterternary\",\"marker\":{\"colorbar\":{\"outlinewidth\":0,\"ticks\":\"\"}}}],\"scattercarpet\":[{\"type\":\"scattercarpet\",\"marker\":{\"colorbar\":{\"outlinewidth\":0,\"ticks\":\"\"}}}],\"carpet\":[{\"aaxis\":{\"endlinecolor\":\"#2a3f5f\",\"gridcolor\":\"white\",\"linecolor\":\"white\",\"minorgridcolor\":\"white\",\"startlinecolor\":\"#2a3f5f\"},\"baxis\":{\"endlinecolor\":\"#2a3f5f\",\"gridcolor\":\"white\",\"linecolor\":\"white\",\"minorgridcolor\":\"white\",\"startlinecolor\":\"#2a3f5f\"},\"type\":\"carpet\"}],\"table\":[{\"cells\":{\"fill\":{\"color\":\"#EBF0F8\"},\"line\":{\"color\":\"white\"}},\"header\":{\"fill\":{\"color\":\"#C8D4E3\"},\"line\":{\"color\":\"white\"}},\"type\":\"table\"}],\"barpolar\":[{\"marker\":{\"line\":{\"color\":\"#E5ECF6\",\"width\":0.5},\"pattern\":{\"fillmode\":\"overlay\",\"size\":10,\"solidity\":0.2}},\"type\":\"barpolar\"}],\"pie\":[{\"automargin\":true,\"type\":\"pie\"}]},\"layout\":{\"autotypenumbers\":\"strict\",\"colorway\":[\"#636efa\",\"#EF553B\",\"#00cc96\",\"#ab63fa\",\"#FFA15A\",\"#19d3f3\",\"#FF6692\",\"#B6E880\",\"#FF97FF\",\"#FECB52\"],\"font\":{\"color\":\"#2a3f5f\"},\"hovermode\":\"closest\",\"hoverlabel\":{\"align\":\"left\"},\"paper_bgcolor\":\"white\",\"plot_bgcolor\":\"#E5ECF6\",\"polar\":{\"bgcolor\":\"#E5ECF6\",\"angularaxis\":{\"gridcolor\":\"white\",\"linecolor\":\"white\",\"ticks\":\"\"},\"radialaxis\":{\"gridcolor\":\"white\",\"linecolor\":\"white\",\"ticks\":\"\"}},\"ternary\":{\"bgcolor\":\"#E5ECF6\",\"aaxis\":{\"gridcolor\":\"white\",\"linecolor\":\"white\",\"ticks\":\"\"},\"baxis\":{\"gridcolor\":\"white\",\"linecolor\":\"white\",\"ticks\":\"\"},\"caxis\":{\"gridcolor\":\"white\",\"linecolor\":\"white\",\"ticks\":\"\"}},\"coloraxis\":{\"colorbar\":{\"outlinewidth\":0,\"ticks\":\"\"}},\"colorscale\":{\"sequential\":[[0.0,\"#0d0887\"],[0.1111111111111111,\"#46039f\"],[0.2222222222222222,\"#7201a8\"],[0.3333333333333333,\"#9c179e\"],[0.4444444444444444,\"#bd3786\"],[0.5555555555555556,\"#d8576b\"],[0.6666666666666666,\"#ed7953\"],[0.7777777777777778,\"#fb9f3a\"],[0.8888888888888888,\"#fdca26\"],[1.0,\"#f0f921\"]],\"sequentialminus\":[[0.0,\"#0d0887\"],[0.1111111111111111,\"#46039f\"],[0.2222222222222222,\"#7201a8\"],[0.3333333333333333,\"#9c179e\"],[0.4444444444444444,\"#bd3786\"],[0.5555555555555556,\"#d8576b\"],[0.6666666666666666,\"#ed7953\"],[0.7777777777777778,\"#fb9f3a\"],[0.8888888888888888,\"#fdca26\"],[1.0,\"#f0f921\"]],\"diverging\":[[0,\"#8e0152\"],[0.1,\"#c51b7d\"],[0.2,\"#de77ae\"],[0.3,\"#f1b6da\"],[0.4,\"#fde0ef\"],[0.5,\"#f7f7f7\"],[0.6,\"#e6f5d0\"],[0.7,\"#b8e186\"],[0.8,\"#7fbc41\"],[0.9,\"#4d9221\"],[1,\"#276419\"]]},\"xaxis\":{\"gridcolor\":\"white\",\"linecolor\":\"white\",\"ticks\":\"\",\"title\":{\"standoff\":15},\"zerolinecolor\":\"white\",\"automargin\":true,\"zerolinewidth\":2},\"yaxis\":{\"gridcolor\":\"white\",\"linecolor\":\"white\",\"ticks\":\"\",\"title\":{\"standoff\":15},\"zerolinecolor\":\"white\",\"automargin\":true,\"zerolinewidth\":2},\"scene\":{\"xaxis\":{\"backgroundcolor\":\"#E5ECF6\",\"gridcolor\":\"white\",\"linecolor\":\"white\",\"showbackground\":true,\"ticks\":\"\",\"zerolinecolor\":\"white\",\"gridwidth\":2},\"yaxis\":{\"backgroundcolor\":\"#E5ECF6\",\"gridcolor\":\"white\",\"linecolor\":\"white\",\"showbackground\":true,\"ticks\":\"\",\"zerolinecolor\":\"white\",\"gridwidth\":2},\"zaxis\":{\"backgroundcolor\":\"#E5ECF6\",\"gridcolor\":\"white\",\"linecolor\":\"white\",\"showbackground\":true,\"ticks\":\"\",\"zerolinecolor\":\"white\",\"gridwidth\":2}},\"shapedefaults\":{\"line\":{\"color\":\"#2a3f5f\"}},\"annotationdefaults\":{\"arrowcolor\":\"#2a3f5f\",\"arrowhead\":0,\"arrowwidth\":1},\"geo\":{\"bgcolor\":\"white\",\"landcolor\":\"#E5ECF6\",\"subunitcolor\":\"white\",\"showland\":true,\"showlakes\":true,\"lakecolor\":\"white\"},\"title\":{\"x\":0.05},\"mapbox\":{\"style\":\"light\"}}},\"xaxis\":{\"anchor\":\"y\",\"domain\":[0.0,0.103125],\"title\":{\"text\":\"batch_size\"}},\"yaxis\":{\"anchor\":\"x\",\"domain\":[0.0,1.0],\"title\":{\"text\":\"Objective Value\"}},\"xaxis2\":{\"anchor\":\"y2\",\"domain\":[0.128125,0.23124999999999998],\"title\":{\"text\":\"dropout_rate\"}},\"yaxis2\":{\"anchor\":\"x2\",\"domain\":[0.0,1.0],\"matches\":\"y\",\"showticklabels\":false},\"xaxis3\":{\"anchor\":\"y3\",\"domain\":[0.25625,0.359375],\"title\":{\"text\":\"epoch_num\"}},\"yaxis3\":{\"anchor\":\"x3\",\"domain\":[0.0,1.0],\"matches\":\"y\",\"showticklabels\":false},\"xaxis4\":{\"anchor\":\"y4\",\"domain\":[0.38437499999999997,0.48749999999999993],\"title\":{\"text\":\"learning_decay\"}},\"yaxis4\":{\"anchor\":\"x4\",\"domain\":[0.0,1.0],\"matches\":\"y\",\"showticklabels\":false},\"xaxis5\":{\"anchor\":\"y5\",\"domain\":[0.5125,0.615625],\"title\":{\"text\":\"learning_rate\"},\"type\":\"log\"},\"yaxis5\":{\"anchor\":\"x5\",\"domain\":[0.0,1.0],\"matches\":\"y\",\"showticklabels\":false},\"xaxis6\":{\"anchor\":\"y6\",\"domain\":[0.640625,0.74375],\"title\":{\"text\":\"num_layers\"}},\"yaxis6\":{\"anchor\":\"x6\",\"domain\":[0.0,1.0],\"matches\":\"y\",\"showticklabels\":false},\"xaxis7\":{\"anchor\":\"y7\",\"domain\":[0.76875,0.8718750000000001],\"title\":{\"text\":\"peak_variable\"},\"type\":\"category\",\"categoryorder\":\"array\",\"categoryarray\":[true,false]},\"yaxis7\":{\"anchor\":\"x7\",\"domain\":[0.0,1.0],\"matches\":\"y\",\"showticklabels\":false},\"xaxis8\":{\"anchor\":\"y8\",\"domain\":[0.8968750000000001,1.0],\"title\":{\"text\":\"size_factor\"}},\"yaxis8\":{\"anchor\":\"x8\",\"domain\":[0.0,1.0],\"matches\":\"y\",\"showticklabels\":false},\"title\":{\"text\":\"Slice Plot\"},\"width\":2400},                        {\"responsive\": true}                    ).then(function(){\n",
       "                            \n",
       "var gd = document.getElementById('dd865eba-1f36-46c6-a3e7-14309f7606d0');\n",
       "var x = new MutationObserver(function (mutations, observer) {{\n",
       "        var display = window.getComputedStyle(gd).display;\n",
       "        if (!display || display === 'none') {{\n",
       "            console.log([gd, 'removed!']);\n",
       "            Plotly.purge(gd);\n",
       "            observer.disconnect();\n",
       "        }}\n",
       "}});\n",
       "\n",
       "// Listen for the removal of the full notebook cells\n",
       "var notebookContainer = gd.closest('#notebook-container');\n",
       "if (notebookContainer) {{\n",
       "    x.observe(notebookContainer, {childList: true});\n",
       "}}\n",
       "\n",
       "// Listen for the clearing of the current output cell\n",
       "var outputEl = gd.closest('.output');\n",
       "if (outputEl) {{\n",
       "    x.observe(outputEl, {childList: true});\n",
       "}}\n",
       "\n",
       "                        })                };                });            </script>        </div>"
      ]
     },
     "metadata": {},
     "output_type": "display_data"
    }
   ],
   "source": [
    "fig = optuna.visualization.plot_slice(study)\n",
    "fig.show()"
   ]
  },
  {
   "cell_type": "code",
   "execution_count": 14,
   "id": "9875faa9",
   "metadata": {},
   "outputs": [
    {
     "name": "stdout",
     "output_type": "stream",
     "text": [
      "Available variables: ['peak_variable', 'num_layers', 'size_factor', 'dropout_rate', 'learning_rate', 'learning_decay', 'batch_size', 'epoch_num']\n"
     ]
    },
    {
     "data": {
      "text/plain": [
       "<Axes: xlabel='num_layers', ylabel='vals'>"
      ]
     },
     "execution_count": 14,
     "metadata": {},
     "output_type": "execute_result"
    },
    {
     "data": {
      "image/png": "[encoded data removed]",
      "text/plain": [
       "<Figure size 640x480 with 1 Axes>"
      ]
     },
     "metadata": {},
     "output_type": "display_data"
    }
   ],
   "source": [
    "# quick check of a variable\n",
    "available_vars = list(study.trials[0].params.keys())\n",
    "print('Available variables:',available_vars)\n",
    "\n",
    "this_var = 'num_layers'\n",
    "vals = [_.values[0] for _ in study.trials]\n",
    "params = [_.params[this_var] for _ in study.trials]\n",
    "\n",
    "df = pd.DataFrame({'vals':vals,this_var:params})\n",
    "sns.boxplot(x=this_var,y='vals',data=df,color='C0')\n",
    "sns.swarmplot(x=this_var,y='vals',data=df,color='r',alpha=0.5)\n"
   ]
  },
  {
   "cell_type": "code",
   "execution_count": null,
   "id": "36d372f8",
   "metadata": {},
   "outputs": [],
   "source": []
  },
  {
   "cell_type": "code",
   "execution_count": null,
   "id": "2f472ff2",
   "metadata": {},
   "outputs": [],
   "source": []
  }
 ],
 "metadata": {
  "interpreter": {
   "hash": "87fbea7b3721842a93ed4da8a1ac4b18f42b1eaaedefc3a2702202c09bf233e1"
  },
  "kernelspec": {
   "display_name": "Python 3.9.7 ('base')",
   "language": "python",
   "name": "python3"
  },
  "language_info": {
   "codemirror_mode": {
    "name": "ipython",
    "version": 3
   },
   "file_extension": ".py",
   "mimetype": "text/x-python",
   "name": "python",
   "nbconvert_exporter": "python",
   "pygments_lexer": "ipython3",
   "version": "3.10.13"
  }
 },
 "nbformat": 4,
 "nbformat_minor": 5
}
